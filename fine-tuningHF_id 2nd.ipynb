{
 "cells": [
  {
   "cell_type": "code",
   "execution_count": 1,
   "metadata": {},
   "outputs": [],
   "source": [
    "import os\n",
    "import pandas as pd\n",
    "import torchaudio\n",
    "from datasets import Dataset, DatasetDict, Audio\n",
    "from transformers import Wav2Vec2Processor, Wav2Vec2ForCTC, TrainingArguments, Trainer, DataCollatorForTokenClassification, EarlyStoppingCallback\n",
    "import numpy as np\n",
    "import torch\n",
    "from dataclasses import dataclass\n",
    "from typing import Any, Dict, List, Union\n",
    "from jiwer import wer\n",
    "import matplotlib.pyplot as plt\n",
    "import json"
   ]
  },
  {
   "cell_type": "code",
   "execution_count": 2,
   "metadata": {},
   "outputs": [],
   "source": [
    "# Dataset's Path\n",
    "BASE_PATH = \"Dataset/HF_id\"\n",
    "AUDIO_DIR = os.path.join(BASE_PATH, \"audio\")\n",
    "SAMPLE_RATE = 16000"
   ]
  },
  {
   "cell_type": "code",
   "execution_count": 3,
   "metadata": {},
   "outputs": [],
   "source": [
    "# Load TSV File\n",
    "def load_fleurs_tsv(tsv_path, split_name):\n",
    "    df = pd.read_csv(tsv_path, sep='\\t', header=None)\n",
    "    df.columns = [\"index\", \"file\", \"raw_text\", \"normalized_text\", \"phoneme\", \"duration\", \"gender\"]\n",
    "    \n",
    "    # Prefix the audio path with split folder name\n",
    "    df[\"file\"] = df[\"file\"].apply(lambda x: os.path.join(AUDIO_DIR, split_name, x))\n",
    "    \n",
    "    return df[[\"file\", \"normalized_text\"]].rename(columns={\"file\": \"audio\", \"normalized_text\": \"sentence\"})"
   ]
  },
  {
   "cell_type": "code",
   "execution_count": 4,
   "metadata": {},
   "outputs": [],
   "source": [
    "# Load datasets\n",
    "train_df = load_fleurs_tsv(os.path.join(BASE_PATH, \"train.tsv\"), \"train\")\n",
    "dev_df = load_fleurs_tsv(os.path.join(BASE_PATH, \"dev.tsv\"), \"dev\")\n",
    "test_df = load_fleurs_tsv(os.path.join(BASE_PATH, \"test.tsv\"), \"test\")"
   ]
  },
  {
   "cell_type": "code",
   "execution_count": 5,
   "metadata": {},
   "outputs": [
    {
     "name": "stdout",
     "output_type": "stream",
     "text": [
      "Total dataset duration (from 2560 valid entries): 9.01 hours\n"
     ]
    }
   ],
   "source": [
    "df_train = pd.read_csv(os.path.join(BASE_PATH, \"train.tsv\"), sep='\\t', header=None, dtype=str)\n",
    "\n",
    "df_train[5] = pd.to_numeric(df_train[5], errors='coerce')  # 'coerce' if value not valid convert to NaN\n",
    "\n",
    "SAMPLE_RATE = 16000 \n",
    "\n",
    "def convert_duration_to_seconds(duration_value):\n",
    "    if pd.isna(duration_value):\n",
    "        return 0  # If NaN, 0 second\n",
    "    return duration_value / SAMPLE_RATE\n",
    "\n",
    "# Sum total duration dataset (second)\n",
    "total_duration_seconds = df_train[5].apply(convert_duration_to_seconds).sum()\n",
    "\n",
    "# Sum of valid entry\n",
    "valid_entries = df_train[5].notna().sum()\n",
    "\n",
    "total_duration_hours = total_duration_seconds / 3600\n",
    "\n",
    "print(f'Total dataset duration (from {valid_entries} valid entries): {total_duration_hours:.2f} hours')"
   ]
  },
  {
   "cell_type": "code",
   "execution_count": 6,
   "metadata": {},
   "outputs": [],
   "source": [
    "# Convert to HF Dataset\n",
    "train_dataset = Dataset.from_pandas(train_df)\n",
    "dev_dataset = Dataset.from_pandas(dev_df)\n",
    "test_dataset = Dataset.from_pandas(test_df)\n",
    "\n",
    "dataset = DatasetDict({\n",
    "    \"train\": train_dataset,\n",
    "    \"validation\": dev_dataset,\n",
    "    \"test\": test_dataset\n",
    "})"
   ]
  },
  {
   "cell_type": "code",
   "execution_count": 7,
   "metadata": {},
   "outputs": [],
   "source": [
    "# Add Audio column\n",
    "dataset = dataset.cast_column(\"audio\", Audio(sampling_rate=SAMPLE_RATE))"
   ]
  },
  {
   "cell_type": "code",
   "execution_count": 8,
   "metadata": {},
   "outputs": [
    {
     "name": "stderr",
     "output_type": "stream",
     "text": [
      "d:\\Tugas Akhir\\STT-1\\Fine-Tuning\\finetune-env\\Lib\\site-packages\\transformers\\configuration_utils.py:315: UserWarning: Passing `gradient_checkpointing` to a config initialization is deprecated and will be removed in v5 Transformers. Using `model.gradient_checkpointing_enable()` instead, or if you are using the `Trainer` API, pass `gradient_checkpointing=True` in your `TrainingArguments`.\n",
      "  warnings.warn(\n"
     ]
    }
   ],
   "source": [
    "# Load processor\n",
    "processor = Wav2Vec2Processor.from_pretrained(\"./Wav2Vec2.0-id-Model\")"
   ]
  },
  {
   "cell_type": "code",
   "execution_count": 9,
   "metadata": {},
   "outputs": [],
   "source": [
    "# Preprocessing audio and text\n",
    "def prepare_dataset(batch):\n",
    "    # extract input features\n",
    "    inputs = processor(batch[\"audio\"][\"array\"], sampling_rate=batch[\"audio\"][\"sampling_rate\"])\n",
    "    \n",
    "    # extract label\n",
    "    with processor.as_target_processor():\n",
    "        labels = processor(batch[\"sentence\"]).input_ids\n",
    "\n",
    "    batch[\"input_values\"] = inputs.input_values[0]\n",
    "    batch[\"attention_mask\"] = inputs.attention_mask[0]\n",
    "    batch[\"labels\"] = labels\n",
    "    return batch"
   ]
  },
  {
   "cell_type": "code",
   "execution_count": 10,
   "metadata": {},
   "outputs": [
    {
     "data": {
      "application/vnd.jupyter.widget-view+json": {
       "model_id": "f59e6cb901644895b59bee35ce9e6030",
       "version_major": 2,
       "version_minor": 0
      },
      "text/plain": [
       "Map:   0%|          | 0/2579 [00:00<?, ? examples/s]"
      ]
     },
     "metadata": {},
     "output_type": "display_data"
    },
    {
     "name": "stderr",
     "output_type": "stream",
     "text": [
      "d:\\Tugas Akhir\\STT-1\\Fine-Tuning\\finetune-env\\Lib\\site-packages\\transformers\\models\\wav2vec2\\processing_wav2vec2.py:174: UserWarning: `as_target_processor` is deprecated and will be removed in v5 of Transformers. You can process your labels by using the argument `text` of the regular `__call__` method (either in the same call as your audio inputs, or in a separate call.\n",
      "  warnings.warn(\n"
     ]
    },
    {
     "data": {
      "application/vnd.jupyter.widget-view+json": {
       "model_id": "c8159b5d6257450597861d58f3a7f6fc",
       "version_major": 2,
       "version_minor": 0
      },
      "text/plain": [
       "Map:   0%|          | 0/350 [00:00<?, ? examples/s]"
      ]
     },
     "metadata": {},
     "output_type": "display_data"
    },
    {
     "data": {
      "application/vnd.jupyter.widget-view+json": {
       "model_id": "cd7eff6217ed426a9f7fd76ff781ee3d",
       "version_major": 2,
       "version_minor": 0
      },
      "text/plain": [
       "Map:   0%|          | 0/687 [00:00<?, ? examples/s]"
      ]
     },
     "metadata": {},
     "output_type": "display_data"
    }
   ],
   "source": [
    "# Map preprocessing to all splits\n",
    "ds = dataset.map(prepare_dataset, remove_columns=dataset[\"train\"].column_names)"
   ]
  },
  {
   "cell_type": "code",
   "execution_count": 11,
   "metadata": {},
   "outputs": [
    {
     "name": "stderr",
     "output_type": "stream",
     "text": [
      "d:\\Tugas Akhir\\STT-1\\Fine-Tuning\\finetune-env\\Lib\\site-packages\\transformers\\configuration_utils.py:315: UserWarning: Passing `gradient_checkpointing` to a config initialization is deprecated and will be removed in v5 Transformers. Using `model.gradient_checkpointing_enable()` instead, or if you are using the `Trainer` API, pass `gradient_checkpointing=True` in your `TrainingArguments`.\n",
      "  warnings.warn(\n"
     ]
    }
   ],
   "source": [
    "# Load model\n",
    "model = Wav2Vec2ForCTC.from_pretrained(\"./Wav2Vec2.0-id-Model\")\n",
    "model.freeze_feature_encoder()"
   ]
  },
  {
   "cell_type": "code",
   "execution_count": 12,
   "metadata": {},
   "outputs": [],
   "source": [
    "@dataclass\n",
    "class DataCollatorCTCWithPadding:\n",
    "    processor: Any\n",
    "    padding: Union[bool, str] = True\n",
    "\n",
    "    def __call__(self, features):\n",
    "        input_features = [{\"input_values\": f[\"input_values\"]} for f in features]\n",
    "        label_features = [{\"input_ids\": f[\"labels\"]} for f in features]\n",
    "\n",
    "        batch = self.processor.feature_extractor.pad(\n",
    "            input_features,\n",
    "            padding=self.padding,\n",
    "            return_tensors=\"pt\",\n",
    "        )\n",
    "\n",
    "        with self.processor.as_target_processor():\n",
    "            labels_batch = self.processor.tokenizer.pad(\n",
    "                label_features,\n",
    "                padding=self.padding,\n",
    "                return_tensors=\"pt\",\n",
    "            )\n",
    "\n",
    "        labels = labels_batch[\"input_ids\"].masked_fill(labels_batch.attention_mask.ne(1), -100)\n",
    "        batch[\"labels\"] = labels\n",
    "\n",
    "        return batch"
   ]
  },
  {
   "cell_type": "code",
   "execution_count": 13,
   "metadata": {},
   "outputs": [],
   "source": [
    "# METRICS FUNCTION (WER dan Accuracy)\n",
    "def compute_metrics(pred):\n",
    "    pred_logits = pred.predictions\n",
    "    pred_ids = np.argmax(pred_logits, axis=-1)\n",
    "\n",
    "    pred_str = processor.batch_decode(pred_ids)\n",
    "    label_ids = pred.label_ids\n",
    "    label_ids[label_ids == -100] = processor.tokenizer.pad_token_id\n",
    "    label_str = processor.batch_decode(label_ids, group_tokens=False)\n",
    "\n",
    "    wer_score = wer(label_str, pred_str)\n",
    "\n",
    "    acc = np.mean([\n",
    "        p.strip() == l.strip()\n",
    "        for p, l in zip(pred_str, label_str)\n",
    "    ])\n",
    "    return {\"wer\": wer_score, \"accuracy\": acc}"
   ]
  },
  {
   "cell_type": "code",
   "execution_count": 14,
   "metadata": {},
   "outputs": [
    {
     "name": "stderr",
     "output_type": "stream",
     "text": [
      "d:\\Tugas Akhir\\STT-1\\Fine-Tuning\\finetune-env\\Lib\\site-packages\\transformers\\training_args.py:1611: FutureWarning: `evaluation_strategy` is deprecated and will be removed in version 4.46 of 🤗 Transformers. Use `eval_strategy` instead\n",
      "  warnings.warn(\n"
     ]
    }
   ],
   "source": [
    "training_args = TrainingArguments(\n",
    "    output_dir=\"./wav2vec2-finetuned-id\",\n",
    "    per_device_train_batch_size=2,  # Bisa diturunkan ke 2 jika OOM\n",
    "    per_device_eval_batch_size=2,\n",
    "    gradient_accumulation_steps=8,  # Untuk meniru batch yang lebih besar\n",
    "    evaluation_strategy=\"steps\",\n",
    "    save_strategy=\"steps\",\n",
    "    save_steps=500,  # Paper menyarankan antara 500-1000\n",
    "    eval_steps=500,\n",
    "    logging_steps=100,\n",
    "    num_train_epochs=30,  # Sesuai paper\n",
    "    gradient_checkpointing=True,  # Menghemat VRAM\n",
    "    fp16=True,  # Memanfaatkan mixed precision training\n",
    "    learning_rate=2e-5,  # Paper menyarankan 1e-5 hingga 4e-5, jadi pakai 3e-5\n",
    "    warmup_steps=500,  # Lebih tinggi untuk stabilitas awal\n",
    "    weight_decay=0.005,  # Sesuai paper\n",
    "    save_total_limit=None,\n",
    "    remove_unused_columns=False,\n",
    "    push_to_hub=False,\n",
    "    report_to=\"none\",\n",
    "    load_best_model_at_end=True,\n",
    "    metric_for_best_model=\"wer\",\n",
    "    greater_is_better=False\n",
    ")"
   ]
  },
  {
   "cell_type": "code",
   "execution_count": 15,
   "metadata": {},
   "outputs": [],
   "source": [
    "data_collator = DataCollatorCTCWithPadding(processor=processor)"
   ]
  },
  {
   "cell_type": "code",
   "execution_count": 16,
   "metadata": {},
   "outputs": [
    {
     "name": "stderr",
     "output_type": "stream",
     "text": [
      "C:\\Users\\dephm\\AppData\\Local\\Temp\\ipykernel_21044\\1611929361.py:1: FutureWarning: `tokenizer` is deprecated and will be removed in version 5.0.0 for `Trainer.__init__`. Use `processing_class` instead.\n",
      "  trainer = Trainer(\n"
     ]
    }
   ],
   "source": [
    "trainer = Trainer(\n",
    "    model=model,\n",
    "    data_collator=data_collator,\n",
    "    args=training_args,\n",
    "    train_dataset=ds[\"train\"],\n",
    "    eval_dataset=ds[\"validation\"],\n",
    "    tokenizer=processor,\n",
    "    compute_metrics=compute_metrics,\n",
    ")"
   ]
  },
  {
   "cell_type": "code",
   "execution_count": 17,
   "metadata": {},
   "outputs": [
    {
     "data": {
      "text/html": [
       "\n",
       "    <div>\n",
       "      \n",
       "      <progress value='4830' max='4830' style='width:300px; height:20px; vertical-align: middle;'></progress>\n",
       "      [4830/4830 88:50:57, Epoch 29/30]\n",
       "    </div>\n",
       "    <table border=\"1\" class=\"dataframe\">\n",
       "  <thead>\n",
       " <tr style=\"text-align: left;\">\n",
       "      <th>Step</th>\n",
       "      <th>Training Loss</th>\n",
       "      <th>Validation Loss</th>\n",
       "      <th>Wer</th>\n",
       "      <th>Accuracy</th>\n",
       "    </tr>\n",
       "  </thead>\n",
       "  <tbody>\n",
       "    <tr>\n",
       "      <td>500</td>\n",
       "      <td>0.836000</td>\n",
       "      <td>0.467651</td>\n",
       "      <td>0.456525</td>\n",
       "      <td>0.000000</td>\n",
       "    </tr>\n",
       "    <tr>\n",
       "      <td>1000</td>\n",
       "      <td>0.685400</td>\n",
       "      <td>0.403047</td>\n",
       "      <td>0.428431</td>\n",
       "      <td>0.000000</td>\n",
       "    </tr>\n",
       "    <tr>\n",
       "      <td>1500</td>\n",
       "      <td>0.631700</td>\n",
       "      <td>0.388162</td>\n",
       "      <td>0.404692</td>\n",
       "      <td>0.000000</td>\n",
       "    </tr>\n",
       "    <tr>\n",
       "      <td>2000</td>\n",
       "      <td>0.591400</td>\n",
       "      <td>0.363615</td>\n",
       "      <td>0.399916</td>\n",
       "      <td>0.000000</td>\n",
       "    </tr>\n",
       "    <tr>\n",
       "      <td>2500</td>\n",
       "      <td>0.581000</td>\n",
       "      <td>0.374191</td>\n",
       "      <td>0.391347</td>\n",
       "      <td>0.000000</td>\n",
       "    </tr>\n",
       "    <tr>\n",
       "      <td>3000</td>\n",
       "      <td>0.529200</td>\n",
       "      <td>0.366954</td>\n",
       "      <td>0.392471</td>\n",
       "      <td>0.000000</td>\n",
       "    </tr>\n",
       "    <tr>\n",
       "      <td>3500</td>\n",
       "      <td>0.532600</td>\n",
       "      <td>0.377053</td>\n",
       "      <td>0.385026</td>\n",
       "      <td>0.000000</td>\n",
       "    </tr>\n",
       "    <tr>\n",
       "      <td>4000</td>\n",
       "      <td>0.526800</td>\n",
       "      <td>0.375307</td>\n",
       "      <td>0.382498</td>\n",
       "      <td>0.000000</td>\n",
       "    </tr>\n",
       "    <tr>\n",
       "      <td>4500</td>\n",
       "      <td>0.529200</td>\n",
       "      <td>0.367832</td>\n",
       "      <td>0.380250</td>\n",
       "      <td>0.000000</td>\n",
       "    </tr>\n",
       "  </tbody>\n",
       "</table><p>"
      ],
      "text/plain": [
       "<IPython.core.display.HTML object>"
      ]
     },
     "metadata": {},
     "output_type": "display_data"
    },
    {
     "name": "stderr",
     "output_type": "stream",
     "text": [
      "d:\\Tugas Akhir\\STT-1\\Fine-Tuning\\finetune-env\\Lib\\site-packages\\transformers\\models\\wav2vec2\\processing_wav2vec2.py:174: UserWarning: `as_target_processor` is deprecated and will be removed in v5 of Transformers. You can process your labels by using the argument `text` of the regular `__call__` method (either in the same call as your audio inputs, or in a separate call.\n",
      "  warnings.warn(\n",
      "d:\\Tugas Akhir\\STT-1\\Fine-Tuning\\finetune-env\\Lib\\site-packages\\transformers\\models\\wav2vec2\\processing_wav2vec2.py:174: UserWarning: `as_target_processor` is deprecated and will be removed in v5 of Transformers. You can process your labels by using the argument `text` of the regular `__call__` method (either in the same call as your audio inputs, or in a separate call.\n",
      "  warnings.warn(\n",
      "d:\\Tugas Akhir\\STT-1\\Fine-Tuning\\finetune-env\\Lib\\site-packages\\transformers\\models\\wav2vec2\\processing_wav2vec2.py:174: UserWarning: `as_target_processor` is deprecated and will be removed in v5 of Transformers. You can process your labels by using the argument `text` of the regular `__call__` method (either in the same call as your audio inputs, or in a separate call.\n",
      "  warnings.warn(\n",
      "d:\\Tugas Akhir\\STT-1\\Fine-Tuning\\finetune-env\\Lib\\site-packages\\transformers\\models\\wav2vec2\\processing_wav2vec2.py:174: UserWarning: `as_target_processor` is deprecated and will be removed in v5 of Transformers. You can process your labels by using the argument `text` of the regular `__call__` method (either in the same call as your audio inputs, or in a separate call.\n",
      "  warnings.warn(\n",
      "d:\\Tugas Akhir\\STT-1\\Fine-Tuning\\finetune-env\\Lib\\site-packages\\transformers\\models\\wav2vec2\\processing_wav2vec2.py:174: UserWarning: `as_target_processor` is deprecated and will be removed in v5 of Transformers. You can process your labels by using the argument `text` of the regular `__call__` method (either in the same call as your audio inputs, or in a separate call.\n",
      "  warnings.warn(\n",
      "d:\\Tugas Akhir\\STT-1\\Fine-Tuning\\finetune-env\\Lib\\site-packages\\transformers\\models\\wav2vec2\\processing_wav2vec2.py:174: UserWarning: `as_target_processor` is deprecated and will be removed in v5 of Transformers. You can process your labels by using the argument `text` of the regular `__call__` method (either in the same call as your audio inputs, or in a separate call.\n",
      "  warnings.warn(\n",
      "d:\\Tugas Akhir\\STT-1\\Fine-Tuning\\finetune-env\\Lib\\site-packages\\transformers\\models\\wav2vec2\\processing_wav2vec2.py:174: UserWarning: `as_target_processor` is deprecated and will be removed in v5 of Transformers. You can process your labels by using the argument `text` of the regular `__call__` method (either in the same call as your audio inputs, or in a separate call.\n",
      "  warnings.warn(\n",
      "d:\\Tugas Akhir\\STT-1\\Fine-Tuning\\finetune-env\\Lib\\site-packages\\transformers\\models\\wav2vec2\\processing_wav2vec2.py:174: UserWarning: `as_target_processor` is deprecated and will be removed in v5 of Transformers. You can process your labels by using the argument `text` of the regular `__call__` method (either in the same call as your audio inputs, or in a separate call.\n",
      "  warnings.warn(\n",
      "d:\\Tugas Akhir\\STT-1\\Fine-Tuning\\finetune-env\\Lib\\site-packages\\transformers\\models\\wav2vec2\\processing_wav2vec2.py:174: UserWarning: `as_target_processor` is deprecated and will be removed in v5 of Transformers. You can process your labels by using the argument `text` of the regular `__call__` method (either in the same call as your audio inputs, or in a separate call.\n",
      "  warnings.warn(\n"
     ]
    }
   ],
   "source": [
    "# TRAIN & CATCH OOM ERROR [FINE TUNING]\n",
    "try:\n",
    "    trainer.train()\n",
    "except RuntimeError as e:\n",
    "    if \"out of memory\" in str(e):\n",
    "        print(\"CUDA OOM:  Reduce batch size\")\n",
    "    else:\n",
    "        raise e"
   ]
  },
  {
   "cell_type": "code",
   "execution_count": 18,
   "metadata": {},
   "outputs": [],
   "source": [
    "# SAVE METRICS TO FILE\n",
    "metrics = trainer.state.log_history\n",
    "\n",
    "with open(\"training_metrics.json\", \"w\") as f:\n",
    "    json.dump(metrics, f, indent=2)"
   ]
  },
  {
   "cell_type": "code",
   "execution_count": 19,
   "metadata": {},
   "outputs": [
    {
     "data": {
      "image/png": "[encoded data removed]",
      "text/plain": [
       "<Figure size 1200x600 with 2 Axes>"
      ]
     },
     "metadata": {},
     "output_type": "display_data"
    }
   ],
   "source": [
    "# PLOTTING\n",
    "train_loss = [m[\"loss\"] for m in metrics if \"loss\" in m and \"eval_loss\" not in m]\n",
    "eval_loss = [m[\"eval_loss\"] for m in metrics if \"eval_loss\" in m]\n",
    "accuracy = [m[\"accuracy\"] for m in metrics if \"accuracy\" in m]\n",
    "\n",
    "plt.figure(figsize=(12, 6))\n",
    "\n",
    "# Loss\n",
    "plt.subplot(1, 2, 1)\n",
    "plt.plot(train_loss, label=\"Training Loss\")\n",
    "plt.plot(eval_loss, label=\"Validation Loss\")\n",
    "plt.xlabel(\"Steps\")\n",
    "plt.ylabel(\"Loss\")\n",
    "plt.title(\"Training & Validation Loss\")\n",
    "plt.legend()\n",
    "\n",
    "# Accuracy\n",
    "plt.subplot(1, 2, 2)\n",
    "plt.plot(accuracy, label=\"Validation Accuracy\", color=\"green\")\n",
    "plt.xlabel(\"Evaluation Steps\")\n",
    "plt.ylabel(\"Accuracy\")\n",
    "plt.title(\"Validation Accuracy\")\n",
    "plt.legend()\n",
    "\n",
    "plt.tight_layout()\n",
    "plt.savefig(\"training_plot.png\")\n",
    "plt.show()"
   ]
  },
  {
   "cell_type": "code",
   "execution_count": 20,
   "metadata": {},
   "outputs": [],
   "source": [
    "import json\n",
    "\n",
    "with open(\"./wav2vec2-finetuned-id/checkpoint-4830/trainer_state.json\", \"r\") as f:\n",
    "    trainer_state = json.load(f)\n",
    "\n",
    "# Ambil training loss dan evaluation loss dari logs\n",
    "train_loss = []\n",
    "eval_loss = []\n",
    "accuracy = []\n",
    "\n",
    "for log in trainer_state[\"log_history\"]:\n",
    "    if \"loss\" in log:\n",
    "        train_loss.append(log[\"loss\"])\n",
    "    if \"eval_loss\" in log:\n",
    "        eval_loss.append(log[\"eval_loss\"])\n",
    "    if \"eval_wer\" in log:\n",
    "        accuracy.append(1 - log[\"eval_wer\"])  # Jika WER, maka akurasi = 1 - WER\n"
   ]
  },
  {
   "cell_type": "code",
   "execution_count": 21,
   "metadata": {},
   "outputs": [],
   "source": [
    "import json\n",
    "import matplotlib.pyplot as plt\n",
    "import numpy as np\n",
    "\n",
    "# Load trainer state dari checkpoint\n",
    "with open(\"./wav2vec2-finetuned-id/checkpoint-4830/trainer_state.json\", \"r\") as f:\n",
    "    trainer_state = json.load(f)\n",
    "\n",
    "# Inisialisasi list untuk menyimpan data\n",
    "train_loss = []\n",
    "train_x = []\n",
    "eval_loss = []\n",
    "eval_x = []\n",
    "accuracy = []\n",
    "accuracy_x = []\n",
    "\n",
    "# Untuk grafik berdasarkan epoch\n",
    "train_loss_epoch = []\n",
    "eval_loss_epoch = []\n",
    "accuracy_epoch = []\n",
    "epoch_list = []\n",
    "\n",
    "# Loop semua log untuk ambil data\n",
    "for log in trainer_state[\"log_history\"]:\n",
    "    if \"loss\" in log:\n",
    "        train_loss.append(log[\"loss\"])\n",
    "        train_x.append(log[\"step\"])\n",
    "        if \"epoch\" in log:\n",
    "            train_loss_epoch.append(log[\"loss\"])\n",
    "    if \"eval_loss\" in log:\n",
    "        eval_loss.append(log[\"eval_loss\"])\n",
    "        eval_x.append(log[\"step\"])\n",
    "        if \"epoch\" in log:\n",
    "            eval_loss_epoch.append(log[\"eval_loss\"])\n",
    "            epoch_list.append(log[\"epoch\"])\n",
    "    if \"eval_wer\" in log:\n",
    "        accuracy.append(1 - log[\"eval_wer\"])\n",
    "        accuracy_x.append(log[\"step\"])\n",
    "        if \"epoch\" in log:\n",
    "            accuracy_epoch.append(1 - log[\"eval_wer\"])"
   ]
  },
  {
   "cell_type": "code",
   "execution_count": 22,
   "metadata": {},
   "outputs": [
    {
     "data": {
      "image/png": "[encoded data removed]",
      "text/plain": [
       "<Figure size 1400x600 with 1 Axes>"
      ]
     },
     "metadata": {},
     "output_type": "display_data"
    }
   ],
   "source": [
    "plt.figure(figsize=(14, 6))\n",
    "\n",
    "# Loss Plot (Steps)\n",
    "ax1 = plt.subplot(1, 2, 1)\n",
    "ax1.plot(train_x, train_loss, label=\"Training Loss\")\n",
    "ax1.plot(eval_x, eval_loss, label=\"Validation Loss\")\n",
    "ax1.set_xlabel(\"Steps\")\n",
    "ax1.set_ylabel(\"Loss\")\n",
    "ax1.set_title(\"Training & Validation Loss (per Step)\")\n",
    "ax1.legend()\n",
    "ax1.grid(False)\n",
    "ax1.set_ylim(0, 1)\n",
    "ax1.set_xlim(0, 5000)\n",
    "ax1.set_xticks(np.arange(0, 5001, 500))\n",
    "ax1.set_yticks(np.arange(0, 1.01, 0.1))\n",
    "ax1.spines[\"top\"].set_visible(False)\n",
    "ax1.spines[\"right\"].set_visible(False)\n",
    "plt.tight_layout()\n",
    "plt.savefig(\"training_plot_by_step.png\")\n",
    "plt.show()"
   ]
  },
  {
   "cell_type": "code",
   "execution_count": 23,
   "metadata": {},
   "outputs": [
    {
     "data": {
      "image/png": "[encoded data removed]",
      "text/plain": [
       "<Figure size 1400x600 with 1 Axes>"
      ]
     },
     "metadata": {},
     "output_type": "display_data"
    }
   ],
   "source": [
    "plt.figure(figsize=(14, 6))\n",
    "\n",
    "# Accuracy Plot (Steps)\n",
    "ax2 = plt.subplot(1, 2, 2)\n",
    "ax2.plot(accuracy_x, accuracy, label=\"Validation Accuracy\", color=\"green\")\n",
    "ax2.set_xlabel(\"Evaluation Steps\")\n",
    "ax2.set_ylabel(\"Accuracy\")\n",
    "ax2.set_title(\"Validation Accuracy (per Step)\")\n",
    "ax2.legend()\n",
    "ax2.grid(False)\n",
    "ax2.set_ylim(0, 1)\n",
    "ax2.set_xlim(0, 5000)\n",
    "ax2.set_xticks(np.arange(0, 5001, 500))\n",
    "ax2.set_yticks(np.arange(0, 1.01, 0.1))\n",
    "ax2.spines[\"top\"].set_visible(False)\n",
    "ax2.spines[\"right\"].set_visible(False)\n",
    "\n",
    "plt.tight_layout()\n",
    "plt.savefig(\"validation_plot_by_step.png\")\n",
    "plt.show()"
   ]
  },
  {
   "cell_type": "code",
   "execution_count": 24,
   "metadata": {},
   "outputs": [
    {
     "data": {
      "image/png": "[encoded data removed]",
      "text/plain": [
       "<Figure size 1400x600 with 1 Axes>"
      ]
     },
     "metadata": {},
     "output_type": "display_data"
    }
   ],
   "source": [
    "plt.figure(figsize=(14, 6))\n",
    "\n",
    "# Loss Plot (Epoch)\n",
    "ax3 = plt.subplot(1, 2, 1)\n",
    "ax3.plot(epoch_list, train_loss_epoch[:len(epoch_list)], label=\"Training Loss\")\n",
    "ax3.plot(epoch_list, eval_loss_epoch, label=\"Validation Loss\")\n",
    "ax3.set_xlabel(\"Epoch\")\n",
    "ax3.set_ylabel(\"Loss\")\n",
    "ax3.set_title(\"Training & Validation Loss (per Epoch)\")\n",
    "ax3.legend()\n",
    "ax3.grid(False)\n",
    "ax3.set_ylim(0, 1)\n",
    "ax3.set_xlim(0, 30)\n",
    "ax3.set_xticks(np.arange(0, 31, 5))\n",
    "ax3.set_yticks(np.arange(0, 1.01, 0.1))\n",
    "ax3.spines[\"top\"].set_visible(False)\n",
    "ax3.spines[\"right\"].set_visible(False)\n",
    "plt.tight_layout()\n",
    "plt.savefig(\"training_plot_by_epoch.png\")\n",
    "plt.show()"
   ]
  },
  {
   "cell_type": "code",
   "execution_count": 25,
   "metadata": {},
   "outputs": [
    {
     "data": {
      "image/png": "[encoded data removed]",
      "text/plain": [
       "<Figure size 1400x600 with 1 Axes>"
      ]
     },
     "metadata": {},
     "output_type": "display_data"
    }
   ],
   "source": [
    "plt.figure(figsize=(14, 6))\n",
    "\n",
    "# Accuracy Plot (Epoch)\n",
    "ax4 = plt.subplot(1, 2, 2)\n",
    "ax4.plot(epoch_list, accuracy_epoch, label=\"Validation Accuracy\", color=\"green\")\n",
    "ax4.set_xlabel(\"Epoch\")\n",
    "ax4.set_ylabel(\"Accuracy\")\n",
    "ax4.set_title(\"Validation Accuracy (per Epoch)\")\n",
    "ax4.legend()\n",
    "ax4.grid(False)\n",
    "ax4.set_ylim(0, 1)\n",
    "ax4.set_xlim(0, 30)\n",
    "ax4.set_xticks(np.arange(0, 31, 5))\n",
    "ax4.set_yticks(np.arange(0, 1.01, 0.1))\n",
    "ax4.spines[\"top\"].set_visible(False)\n",
    "ax4.spines[\"right\"].set_visible(False)\n",
    "\n",
    "plt.tight_layout()\n",
    "plt.savefig(\"Accuracty_plot_by_epoch.png\")\n",
    "plt.show()"
   ]
  },
  {
   "cell_type": "code",
   "execution_count": 26,
   "metadata": {},
   "outputs": [
    {
     "data": {
      "text/plain": [
       "[]"
      ]
     },
     "execution_count": 26,
     "metadata": {},
     "output_type": "execute_result"
    }
   ],
   "source": [
    "model.save_pretrained(\"./wav2vec2-finetuned-id/final\")\n",
    "processor.save_pretrained(\"./wav2vec2-finetuned-id/final\")"
   ]
  },
  {
   "cell_type": "code",
   "execution_count": null,
   "metadata": {},
   "outputs": [
    {
     "name": "stderr",
     "output_type": "stream",
     "text": [
      "d:\\Tugas Akhir\\STT-1\\Fine-Tuning\\finetune-env\\Lib\\site-packages\\transformers\\models\\wav2vec2\\processing_wav2vec2.py:174: UserWarning: `as_target_processor` is deprecated and will be removed in v5 of Transformers. You can process your labels by using the argument `text` of the regular `__call__` method (either in the same call as your audio inputs, or in a separate call.\n",
      "  warnings.warn(\n"
     ]
    },
    {
     "data": {
      "text/html": [
       "\n",
       "    <div>\n",
       "      \n",
       "      <progress value='2262' max='3220' style='width:300px; height:20px; vertical-align: middle;'></progress>\n",
       "      [2262/3220 11:09:08 < 4:43:38, 0.06 it/s, Epoch 3.51/5]\n",
       "    </div>\n",
       "    <table border=\"1\" class=\"dataframe\">\n",
       "  <thead>\n",
       " <tr style=\"text-align: left;\">\n",
       "      <th>Step</th>\n",
       "      <th>Training Loss</th>\n",
       "      <th>Validation Loss</th>\n",
       "    </tr>\n",
       "  </thead>\n",
       "  <tbody>\n",
       "    <tr>\n",
       "      <td>500</td>\n",
       "      <td>0.696600</td>\n",
       "      <td>0.420477</td>\n",
       "    </tr>\n",
       "    <tr>\n",
       "      <td>1000</td>\n",
       "      <td>0.597100</td>\n",
       "      <td>0.402975</td>\n",
       "    </tr>\n",
       "    <tr>\n",
       "      <td>1500</td>\n",
       "      <td>0.540700</td>\n",
       "      <td>0.376387</td>\n",
       "    </tr>\n",
       "    <tr>\n",
       "      <td>2000</td>\n",
       "      <td>0.546100</td>\n",
       "      <td>0.376483</td>\n",
       "    </tr>\n",
       "  </tbody>\n",
       "</table><p>"
      ],
      "text/plain": [
       "<IPython.core.display.HTML object>"
      ]
     },
     "metadata": {},
     "output_type": "display_data"
    },
    {
     "name": "stderr",
     "output_type": "stream",
     "text": [
      "d:\\Tugas Akhir\\STT-1\\Fine-Tuning\\finetune-env\\Lib\\site-packages\\transformers\\models\\wav2vec2\\processing_wav2vec2.py:174: UserWarning: `as_target_processor` is deprecated and will be removed in v5 of Transformers. You can process your labels by using the argument `text` of the regular `__call__` method (either in the same call as your audio inputs, or in a separate call.\n",
      "  warnings.warn(\n",
      "d:\\Tugas Akhir\\STT-1\\Fine-Tuning\\finetune-env\\Lib\\site-packages\\transformers\\models\\wav2vec2\\processing_wav2vec2.py:174: UserWarning: `as_target_processor` is deprecated and will be removed in v5 of Transformers. You can process your labels by using the argument `text` of the regular `__call__` method (either in the same call as your audio inputs, or in a separate call.\n",
      "  warnings.warn(\n",
      "d:\\Tugas Akhir\\STT-1\\Fine-Tuning\\finetune-env\\Lib\\site-packages\\transformers\\models\\wav2vec2\\processing_wav2vec2.py:174: UserWarning: `as_target_processor` is deprecated and will be removed in v5 of Transformers. You can process your labels by using the argument `text` of the regular `__call__` method (either in the same call as your audio inputs, or in a separate call.\n",
      "  warnings.warn(\n",
      "d:\\Tugas Akhir\\STT-1\\Fine-Tuning\\finetune-env\\Lib\\site-packages\\transformers\\models\\wav2vec2\\processing_wav2vec2.py:174: UserWarning: `as_target_processor` is deprecated and will be removed in v5 of Transformers. You can process your labels by using the argument `text` of the regular `__call__` method (either in the same call as your audio inputs, or in a separate call.\n",
      "  warnings.warn(\n"
     ]
    },
    {
     "ename": "RuntimeError",
     "evalue": "CUDA error: out of memory\nCUDA kernel errors might be asynchronously reported at some other API call, so the stacktrace below might be incorrect.\nFor debugging consider passing CUDA_LAUNCH_BLOCKING=1\nCompile with `TORCH_USE_CUDA_DSA` to enable device-side assertions.\n",
     "output_type": "error",
     "traceback": [
      "\u001b[31m---------------------------------------------------------------------------\u001b[39m",
      "\u001b[31mRuntimeError\u001b[39m                              Traceback (most recent call last)",
      "\u001b[36mCell\u001b[39m\u001b[36m \u001b[39m\u001b[32mIn[20]\u001b[39m\u001b[32m, line 2\u001b[39m\n\u001b[32m      1\u001b[39m \u001b[38;5;66;03m# Fine-tuning\u001b[39;00m\n\u001b[32m----> \u001b[39m\u001b[32m2\u001b[39m \u001b[43mtrainer\u001b[49m\u001b[43m.\u001b[49m\u001b[43mtrain\u001b[49m\u001b[43m(\u001b[49m\u001b[43m)\u001b[49m\n",
      "\u001b[36mFile \u001b[39m\u001b[32md:\\Tugas Akhir\\STT-1\\Fine-Tuning\\finetune-env\\Lib\\site-packages\\transformers\\trainer.py:2245\u001b[39m, in \u001b[36mTrainer.train\u001b[39m\u001b[34m(self, resume_from_checkpoint, trial, ignore_keys_for_eval, **kwargs)\u001b[39m\n\u001b[32m   2243\u001b[39m         hf_hub_utils.enable_progress_bars()\n\u001b[32m   2244\u001b[39m \u001b[38;5;28;01melse\u001b[39;00m:\n\u001b[32m-> \u001b[39m\u001b[32m2245\u001b[39m     \u001b[38;5;28;01mreturn\u001b[39;00m \u001b[43minner_training_loop\u001b[49m\u001b[43m(\u001b[49m\n\u001b[32m   2246\u001b[39m \u001b[43m        \u001b[49m\u001b[43margs\u001b[49m\u001b[43m=\u001b[49m\u001b[43margs\u001b[49m\u001b[43m,\u001b[49m\n\u001b[32m   2247\u001b[39m \u001b[43m        \u001b[49m\u001b[43mresume_from_checkpoint\u001b[49m\u001b[43m=\u001b[49m\u001b[43mresume_from_checkpoint\u001b[49m\u001b[43m,\u001b[49m\n\u001b[32m   2248\u001b[39m \u001b[43m        \u001b[49m\u001b[43mtrial\u001b[49m\u001b[43m=\u001b[49m\u001b[43mtrial\u001b[49m\u001b[43m,\u001b[49m\n\u001b[32m   2249\u001b[39m \u001b[43m        \u001b[49m\u001b[43mignore_keys_for_eval\u001b[49m\u001b[43m=\u001b[49m\u001b[43mignore_keys_for_eval\u001b[49m\u001b[43m,\u001b[49m\n\u001b[32m   2250\u001b[39m \u001b[43m    \u001b[49m\u001b[43m)\u001b[49m\n",
      "\u001b[36mFile \u001b[39m\u001b[32md:\\Tugas Akhir\\STT-1\\Fine-Tuning\\finetune-env\\Lib\\site-packages\\transformers\\trainer.py:2556\u001b[39m, in \u001b[36mTrainer._inner_training_loop\u001b[39m\u001b[34m(self, batch_size, args, resume_from_checkpoint, trial, ignore_keys_for_eval)\u001b[39m\n\u001b[32m   2549\u001b[39m context = (\n\u001b[32m   2550\u001b[39m     functools.partial(\u001b[38;5;28mself\u001b[39m.accelerator.no_sync, model=model)\n\u001b[32m   2551\u001b[39m     \u001b[38;5;28;01mif\u001b[39;00m i != \u001b[38;5;28mlen\u001b[39m(batch_samples) - \u001b[32m1\u001b[39m\n\u001b[32m   2552\u001b[39m     \u001b[38;5;129;01mand\u001b[39;00m \u001b[38;5;28mself\u001b[39m.accelerator.distributed_type != DistributedType.DEEPSPEED\n\u001b[32m   2553\u001b[39m     \u001b[38;5;28;01melse\u001b[39;00m contextlib.nullcontext\n\u001b[32m   2554\u001b[39m )\n\u001b[32m   2555\u001b[39m \u001b[38;5;28;01mwith\u001b[39;00m context():\n\u001b[32m-> \u001b[39m\u001b[32m2556\u001b[39m     tr_loss_step = \u001b[38;5;28;43mself\u001b[39;49m\u001b[43m.\u001b[49m\u001b[43mtraining_step\u001b[49m\u001b[43m(\u001b[49m\u001b[43mmodel\u001b[49m\u001b[43m,\u001b[49m\u001b[43m \u001b[49m\u001b[43minputs\u001b[49m\u001b[43m,\u001b[49m\u001b[43m \u001b[49m\u001b[43mnum_items_in_batch\u001b[49m\u001b[43m)\u001b[49m\n\u001b[32m   2558\u001b[39m \u001b[38;5;28;01mif\u001b[39;00m (\n\u001b[32m   2559\u001b[39m     args.logging_nan_inf_filter\n\u001b[32m   2560\u001b[39m     \u001b[38;5;129;01mand\u001b[39;00m \u001b[38;5;129;01mnot\u001b[39;00m is_torch_xla_available()\n\u001b[32m   2561\u001b[39m     \u001b[38;5;129;01mand\u001b[39;00m (torch.isnan(tr_loss_step) \u001b[38;5;129;01mor\u001b[39;00m torch.isinf(tr_loss_step))\n\u001b[32m   2562\u001b[39m ):\n\u001b[32m   2563\u001b[39m     \u001b[38;5;66;03m# if loss is nan or inf simply add the average of previous logged losses\u001b[39;00m\n\u001b[32m   2564\u001b[39m     tr_loss = tr_loss + tr_loss / (\u001b[32m1\u001b[39m + \u001b[38;5;28mself\u001b[39m.state.global_step - \u001b[38;5;28mself\u001b[39m._globalstep_last_logged)\n",
      "\u001b[36mFile \u001b[39m\u001b[32md:\\Tugas Akhir\\STT-1\\Fine-Tuning\\finetune-env\\Lib\\site-packages\\transformers\\trainer.py:3764\u001b[39m, in \u001b[36mTrainer.training_step\u001b[39m\u001b[34m(***failed resolving arguments***)\u001b[39m\n\u001b[32m   3761\u001b[39m \u001b[38;5;28;01mif\u001b[39;00m \u001b[38;5;28mself\u001b[39m.accelerator.distributed_type == DistributedType.DEEPSPEED:\n\u001b[32m   3762\u001b[39m     kwargs[\u001b[33m\"\u001b[39m\u001b[33mscale_wrt_gas\u001b[39m\u001b[33m\"\u001b[39m] = \u001b[38;5;28;01mFalse\u001b[39;00m\n\u001b[32m-> \u001b[39m\u001b[32m3764\u001b[39m \u001b[38;5;28;43mself\u001b[39;49m\u001b[43m.\u001b[49m\u001b[43maccelerator\u001b[49m\u001b[43m.\u001b[49m\u001b[43mbackward\u001b[49m\u001b[43m(\u001b[49m\u001b[43mloss\u001b[49m\u001b[43m,\u001b[49m\u001b[43m \u001b[49m\u001b[43m*\u001b[49m\u001b[43m*\u001b[49m\u001b[43mkwargs\u001b[49m\u001b[43m)\u001b[49m\n\u001b[32m   3766\u001b[39m \u001b[38;5;28;01mreturn\u001b[39;00m loss.detach()\n",
      "\u001b[36mFile \u001b[39m\u001b[32md:\\Tugas Akhir\\STT-1\\Fine-Tuning\\finetune-env\\Lib\\site-packages\\accelerate\\accelerator.py:2355\u001b[39m, in \u001b[36mAccelerator.backward\u001b[39m\u001b[34m(self, loss, **kwargs)\u001b[39m\n\u001b[32m   2353\u001b[39m     \u001b[38;5;28;01mreturn\u001b[39;00m\n\u001b[32m   2354\u001b[39m \u001b[38;5;28;01melif\u001b[39;00m \u001b[38;5;28mself\u001b[39m.scaler \u001b[38;5;129;01mis\u001b[39;00m \u001b[38;5;129;01mnot\u001b[39;00m \u001b[38;5;28;01mNone\u001b[39;00m:\n\u001b[32m-> \u001b[39m\u001b[32m2355\u001b[39m     \u001b[38;5;28;43mself\u001b[39;49m\u001b[43m.\u001b[49m\u001b[43mscaler\u001b[49m\u001b[43m.\u001b[49m\u001b[43mscale\u001b[49m\u001b[43m(\u001b[49m\u001b[43mloss\u001b[49m\u001b[43m)\u001b[49m\u001b[43m.\u001b[49m\u001b[43mbackward\u001b[49m\u001b[43m(\u001b[49m\u001b[43m*\u001b[49m\u001b[43m*\u001b[49m\u001b[43mkwargs\u001b[49m\u001b[43m)\u001b[49m\n\u001b[32m   2356\u001b[39m \u001b[38;5;28;01melif\u001b[39;00m learning_rate \u001b[38;5;129;01mis\u001b[39;00m \u001b[38;5;129;01mnot\u001b[39;00m \u001b[38;5;28;01mNone\u001b[39;00m \u001b[38;5;129;01mand\u001b[39;00m \u001b[38;5;28mself\u001b[39m.has_lomo_optimizer:\n\u001b[32m   2357\u001b[39m     \u001b[38;5;28mself\u001b[39m.lomo_backward(loss, learning_rate)\n",
      "\u001b[36mFile \u001b[39m\u001b[32md:\\Tugas Akhir\\STT-1\\Fine-Tuning\\finetune-env\\Lib\\site-packages\\torch\\_tensor.py:626\u001b[39m, in \u001b[36mTensor.backward\u001b[39m\u001b[34m(self, gradient, retain_graph, create_graph, inputs)\u001b[39m\n\u001b[32m    616\u001b[39m \u001b[38;5;28;01mif\u001b[39;00m has_torch_function_unary(\u001b[38;5;28mself\u001b[39m):\n\u001b[32m    617\u001b[39m     \u001b[38;5;28;01mreturn\u001b[39;00m handle_torch_function(\n\u001b[32m    618\u001b[39m         Tensor.backward,\n\u001b[32m    619\u001b[39m         (\u001b[38;5;28mself\u001b[39m,),\n\u001b[32m   (...)\u001b[39m\u001b[32m    624\u001b[39m         inputs=inputs,\n\u001b[32m    625\u001b[39m     )\n\u001b[32m--> \u001b[39m\u001b[32m626\u001b[39m \u001b[43mtorch\u001b[49m\u001b[43m.\u001b[49m\u001b[43mautograd\u001b[49m\u001b[43m.\u001b[49m\u001b[43mbackward\u001b[49m\u001b[43m(\u001b[49m\n\u001b[32m    627\u001b[39m \u001b[43m    \u001b[49m\u001b[38;5;28;43mself\u001b[39;49m\u001b[43m,\u001b[49m\u001b[43m \u001b[49m\u001b[43mgradient\u001b[49m\u001b[43m,\u001b[49m\u001b[43m \u001b[49m\u001b[43mretain_graph\u001b[49m\u001b[43m,\u001b[49m\u001b[43m \u001b[49m\u001b[43mcreate_graph\u001b[49m\u001b[43m,\u001b[49m\u001b[43m \u001b[49m\u001b[43minputs\u001b[49m\u001b[43m=\u001b[49m\u001b[43minputs\u001b[49m\n\u001b[32m    628\u001b[39m \u001b[43m\u001b[49m\u001b[43m)\u001b[49m\n",
      "\u001b[36mFile \u001b[39m\u001b[32md:\\Tugas Akhir\\STT-1\\Fine-Tuning\\finetune-env\\Lib\\site-packages\\torch\\autograd\\__init__.py:347\u001b[39m, in \u001b[36mbackward\u001b[39m\u001b[34m(tensors, grad_tensors, retain_graph, create_graph, grad_variables, inputs)\u001b[39m\n\u001b[32m    342\u001b[39m     retain_graph = create_graph\n\u001b[32m    344\u001b[39m \u001b[38;5;66;03m# The reason we repeat the same comment below is that\u001b[39;00m\n\u001b[32m    345\u001b[39m \u001b[38;5;66;03m# some Python versions print out the first line of a multi-line function\u001b[39;00m\n\u001b[32m    346\u001b[39m \u001b[38;5;66;03m# calls in the traceback and some print out the last line\u001b[39;00m\n\u001b[32m--> \u001b[39m\u001b[32m347\u001b[39m \u001b[43m_engine_run_backward\u001b[49m\u001b[43m(\u001b[49m\n\u001b[32m    348\u001b[39m \u001b[43m    \u001b[49m\u001b[43mtensors\u001b[49m\u001b[43m,\u001b[49m\n\u001b[32m    349\u001b[39m \u001b[43m    \u001b[49m\u001b[43mgrad_tensors_\u001b[49m\u001b[43m,\u001b[49m\n\u001b[32m    350\u001b[39m \u001b[43m    \u001b[49m\u001b[43mretain_graph\u001b[49m\u001b[43m,\u001b[49m\n\u001b[32m    351\u001b[39m \u001b[43m    \u001b[49m\u001b[43mcreate_graph\u001b[49m\u001b[43m,\u001b[49m\n\u001b[32m    352\u001b[39m \u001b[43m    \u001b[49m\u001b[43minputs\u001b[49m\u001b[43m,\u001b[49m\n\u001b[32m    353\u001b[39m \u001b[43m    \u001b[49m\u001b[43mallow_unreachable\u001b[49m\u001b[43m=\u001b[49m\u001b[38;5;28;43;01mTrue\u001b[39;49;00m\u001b[43m,\u001b[49m\n\u001b[32m    354\u001b[39m \u001b[43m    \u001b[49m\u001b[43maccumulate_grad\u001b[49m\u001b[43m=\u001b[49m\u001b[38;5;28;43;01mTrue\u001b[39;49;00m\u001b[43m,\u001b[49m\n\u001b[32m    355\u001b[39m \u001b[43m\u001b[49m\u001b[43m)\u001b[49m\n",
      "\u001b[36mFile \u001b[39m\u001b[32md:\\Tugas Akhir\\STT-1\\Fine-Tuning\\finetune-env\\Lib\\site-packages\\torch\\autograd\\graph.py:823\u001b[39m, in \u001b[36m_engine_run_backward\u001b[39m\u001b[34m(t_outputs, *args, **kwargs)\u001b[39m\n\u001b[32m    821\u001b[39m     unregister_hooks = _register_logging_hooks_on_whole_graph(t_outputs)\n\u001b[32m    822\u001b[39m \u001b[38;5;28;01mtry\u001b[39;00m:\n\u001b[32m--> \u001b[39m\u001b[32m823\u001b[39m     \u001b[38;5;28;01mreturn\u001b[39;00m \u001b[43mVariable\u001b[49m\u001b[43m.\u001b[49m\u001b[43m_execution_engine\u001b[49m\u001b[43m.\u001b[49m\u001b[43mrun_backward\u001b[49m\u001b[43m(\u001b[49m\u001b[43m  \u001b[49m\u001b[38;5;66;43;03m# Calls into the C++ engine to run the backward pass\u001b[39;49;00m\n\u001b[32m    824\u001b[39m \u001b[43m        \u001b[49m\u001b[43mt_outputs\u001b[49m\u001b[43m,\u001b[49m\u001b[43m \u001b[49m\u001b[43m*\u001b[49m\u001b[43margs\u001b[49m\u001b[43m,\u001b[49m\u001b[43m \u001b[49m\u001b[43m*\u001b[49m\u001b[43m*\u001b[49m\u001b[43mkwargs\u001b[49m\n\u001b[32m    825\u001b[39m \u001b[43m    \u001b[49m\u001b[43m)\u001b[49m  \u001b[38;5;66;03m# Calls into the C++ engine to run the backward pass\u001b[39;00m\n\u001b[32m    826\u001b[39m \u001b[38;5;28;01mfinally\u001b[39;00m:\n\u001b[32m    827\u001b[39m     \u001b[38;5;28;01mif\u001b[39;00m attach_logging_hooks:\n",
      "\u001b[36mFile \u001b[39m\u001b[32md:\\Tugas Akhir\\STT-1\\Fine-Tuning\\finetune-env\\Lib\\site-packages\\torch\\autograd\\function.py:307\u001b[39m, in \u001b[36mBackwardCFunction.apply\u001b[39m\u001b[34m(self, *args)\u001b[39m\n\u001b[32m    301\u001b[39m     \u001b[38;5;28;01mraise\u001b[39;00m \u001b[38;5;167;01mRuntimeError\u001b[39;00m(\n\u001b[32m    302\u001b[39m         \u001b[33m\"\u001b[39m\u001b[33mImplementing both \u001b[39m\u001b[33m'\u001b[39m\u001b[33mbackward\u001b[39m\u001b[33m'\u001b[39m\u001b[33m and \u001b[39m\u001b[33m'\u001b[39m\u001b[33mvjp\u001b[39m\u001b[33m'\u001b[39m\u001b[33m for a custom \u001b[39m\u001b[33m\"\u001b[39m\n\u001b[32m    303\u001b[39m         \u001b[33m\"\u001b[39m\u001b[33mFunction is not allowed. You should only implement one \u001b[39m\u001b[33m\"\u001b[39m\n\u001b[32m    304\u001b[39m         \u001b[33m\"\u001b[39m\u001b[33mof them.\u001b[39m\u001b[33m\"\u001b[39m\n\u001b[32m    305\u001b[39m     )\n\u001b[32m    306\u001b[39m user_fn = vjp_fn \u001b[38;5;28;01mif\u001b[39;00m vjp_fn \u001b[38;5;129;01mis\u001b[39;00m \u001b[38;5;129;01mnot\u001b[39;00m Function.vjp \u001b[38;5;28;01melse\u001b[39;00m backward_fn\n\u001b[32m--> \u001b[39m\u001b[32m307\u001b[39m \u001b[38;5;28;01mreturn\u001b[39;00m \u001b[43muser_fn\u001b[49m\u001b[43m(\u001b[49m\u001b[38;5;28;43mself\u001b[39;49m\u001b[43m,\u001b[49m\u001b[43m \u001b[49m\u001b[43m*\u001b[49m\u001b[43margs\u001b[49m\u001b[43m)\u001b[49m\n",
      "\u001b[36mFile \u001b[39m\u001b[32md:\\Tugas Akhir\\STT-1\\Fine-Tuning\\finetune-env\\Lib\\site-packages\\torch\\utils\\checkpoint.py:321\u001b[39m, in \u001b[36mCheckpointFunction.backward\u001b[39m\u001b[34m(ctx, *args)\u001b[39m\n\u001b[32m    316\u001b[39m \u001b[38;5;28;01mif\u001b[39;00m \u001b[38;5;28mlen\u001b[39m(outputs_with_grad) == \u001b[32m0\u001b[39m:\n\u001b[32m    317\u001b[39m     \u001b[38;5;28;01mraise\u001b[39;00m \u001b[38;5;167;01mRuntimeError\u001b[39;00m(\n\u001b[32m    318\u001b[39m         \u001b[33m\"\u001b[39m\u001b[33mnone of output has requires_grad=True,\u001b[39m\u001b[33m\"\u001b[39m\n\u001b[32m    319\u001b[39m         \u001b[33m\"\u001b[39m\u001b[33m this checkpoint() is not necessary\u001b[39m\u001b[33m\"\u001b[39m\n\u001b[32m    320\u001b[39m     )\n\u001b[32m--> \u001b[39m\u001b[32m321\u001b[39m \u001b[43mtorch\u001b[49m\u001b[43m.\u001b[49m\u001b[43mautograd\u001b[49m\u001b[43m.\u001b[49m\u001b[43mbackward\u001b[49m\u001b[43m(\u001b[49m\u001b[43moutputs_with_grad\u001b[49m\u001b[43m,\u001b[49m\u001b[43m \u001b[49m\u001b[43margs_with_grad\u001b[49m\u001b[43m)\u001b[49m\n\u001b[32m    322\u001b[39m grads = \u001b[38;5;28mtuple\u001b[39m(\n\u001b[32m    323\u001b[39m     inp.grad \u001b[38;5;28;01mif\u001b[39;00m \u001b[38;5;28misinstance\u001b[39m(inp, torch.Tensor) \u001b[38;5;28;01melse\u001b[39;00m \u001b[38;5;28;01mNone\u001b[39;00m\n\u001b[32m    324\u001b[39m     \u001b[38;5;28;01mfor\u001b[39;00m inp \u001b[38;5;129;01min\u001b[39;00m detached_inputs\n\u001b[32m    325\u001b[39m )\n\u001b[32m    327\u001b[39m \u001b[38;5;28;01mreturn\u001b[39;00m (\u001b[38;5;28;01mNone\u001b[39;00m, \u001b[38;5;28;01mNone\u001b[39;00m) + grads\n",
      "\u001b[36mFile \u001b[39m\u001b[32md:\\Tugas Akhir\\STT-1\\Fine-Tuning\\finetune-env\\Lib\\site-packages\\torch\\autograd\\__init__.py:347\u001b[39m, in \u001b[36mbackward\u001b[39m\u001b[34m(tensors, grad_tensors, retain_graph, create_graph, grad_variables, inputs)\u001b[39m\n\u001b[32m    342\u001b[39m     retain_graph = create_graph\n\u001b[32m    344\u001b[39m \u001b[38;5;66;03m# The reason we repeat the same comment below is that\u001b[39;00m\n\u001b[32m    345\u001b[39m \u001b[38;5;66;03m# some Python versions print out the first line of a multi-line function\u001b[39;00m\n\u001b[32m    346\u001b[39m \u001b[38;5;66;03m# calls in the traceback and some print out the last line\u001b[39;00m\n\u001b[32m--> \u001b[39m\u001b[32m347\u001b[39m \u001b[43m_engine_run_backward\u001b[49m\u001b[43m(\u001b[49m\n\u001b[32m    348\u001b[39m \u001b[43m    \u001b[49m\u001b[43mtensors\u001b[49m\u001b[43m,\u001b[49m\n\u001b[32m    349\u001b[39m \u001b[43m    \u001b[49m\u001b[43mgrad_tensors_\u001b[49m\u001b[43m,\u001b[49m\n\u001b[32m    350\u001b[39m \u001b[43m    \u001b[49m\u001b[43mretain_graph\u001b[49m\u001b[43m,\u001b[49m\n\u001b[32m    351\u001b[39m \u001b[43m    \u001b[49m\u001b[43mcreate_graph\u001b[49m\u001b[43m,\u001b[49m\n\u001b[32m    352\u001b[39m \u001b[43m    \u001b[49m\u001b[43minputs\u001b[49m\u001b[43m,\u001b[49m\n\u001b[32m    353\u001b[39m \u001b[43m    \u001b[49m\u001b[43mallow_unreachable\u001b[49m\u001b[43m=\u001b[49m\u001b[38;5;28;43;01mTrue\u001b[39;49;00m\u001b[43m,\u001b[49m\n\u001b[32m    354\u001b[39m \u001b[43m    \u001b[49m\u001b[43maccumulate_grad\u001b[49m\u001b[43m=\u001b[49m\u001b[38;5;28;43;01mTrue\u001b[39;49;00m\u001b[43m,\u001b[49m\n\u001b[32m    355\u001b[39m \u001b[43m\u001b[49m\u001b[43m)\u001b[49m\n",
      "\u001b[36mFile \u001b[39m\u001b[32md:\\Tugas Akhir\\STT-1\\Fine-Tuning\\finetune-env\\Lib\\site-packages\\torch\\autograd\\graph.py:823\u001b[39m, in \u001b[36m_engine_run_backward\u001b[39m\u001b[34m(t_outputs, *args, **kwargs)\u001b[39m\n\u001b[32m    821\u001b[39m     unregister_hooks = _register_logging_hooks_on_whole_graph(t_outputs)\n\u001b[32m    822\u001b[39m \u001b[38;5;28;01mtry\u001b[39;00m:\n\u001b[32m--> \u001b[39m\u001b[32m823\u001b[39m     \u001b[38;5;28;01mreturn\u001b[39;00m \u001b[43mVariable\u001b[49m\u001b[43m.\u001b[49m\u001b[43m_execution_engine\u001b[49m\u001b[43m.\u001b[49m\u001b[43mrun_backward\u001b[49m\u001b[43m(\u001b[49m\u001b[43m  \u001b[49m\u001b[38;5;66;43;03m# Calls into the C++ engine to run the backward pass\u001b[39;49;00m\n\u001b[32m    824\u001b[39m \u001b[43m        \u001b[49m\u001b[43mt_outputs\u001b[49m\u001b[43m,\u001b[49m\u001b[43m \u001b[49m\u001b[43m*\u001b[49m\u001b[43margs\u001b[49m\u001b[43m,\u001b[49m\u001b[43m \u001b[49m\u001b[43m*\u001b[49m\u001b[43m*\u001b[49m\u001b[43mkwargs\u001b[49m\n\u001b[32m    825\u001b[39m \u001b[43m    \u001b[49m\u001b[43m)\u001b[49m  \u001b[38;5;66;03m# Calls into the C++ engine to run the backward pass\u001b[39;00m\n\u001b[32m    826\u001b[39m \u001b[38;5;28;01mfinally\u001b[39;00m:\n\u001b[32m    827\u001b[39m     \u001b[38;5;28;01mif\u001b[39;00m attach_logging_hooks:\n",
      "\u001b[31mRuntimeError\u001b[39m: CUDA error: out of memory\nCUDA kernel errors might be asynchronously reported at some other API call, so the stacktrace below might be incorrect.\nFor debugging consider passing CUDA_LAUNCH_BLOCKING=1\nCompile with `TORCH_USE_CUDA_DSA` to enable device-side assertions.\n"
     ]
    }
   ],
   "source": [
    "# Fine-tuning\n",
    "# trainer.train()"
   ]
  },
  {
   "cell_type": "code",
   "execution_count": 2,
   "metadata": {},
   "outputs": [],
   "source": [
    "from transformers import Wav2Vec2ForCTC\n",
    "\n",
    "model = Wav2Vec2ForCTC.from_pretrained(\"./wav2vec2-finetuned-id/final\")"
   ]
  },
  {
   "cell_type": "code",
   "execution_count": 3,
   "metadata": {},
   "outputs": [
    {
     "name": "stdout",
     "output_type": "stream",
     "text": [
      "wav2vec2.masked_spec_embed - Trainable\n",
      "wav2vec2.feature_extractor.conv_layers.0.conv.weight - Trainable\n",
      "wav2vec2.feature_extractor.conv_layers.0.conv.bias - Trainable\n",
      "wav2vec2.feature_extractor.conv_layers.0.layer_norm.weight - Trainable\n",
      "wav2vec2.feature_extractor.conv_layers.0.layer_norm.bias - Trainable\n",
      "wav2vec2.feature_extractor.conv_layers.1.conv.weight - Trainable\n",
      "wav2vec2.feature_extractor.conv_layers.1.conv.bias - Trainable\n",
      "wav2vec2.feature_extractor.conv_layers.1.layer_norm.weight - Trainable\n",
      "wav2vec2.feature_extractor.conv_layers.1.layer_norm.bias - Trainable\n",
      "wav2vec2.feature_extractor.conv_layers.2.conv.weight - Trainable\n",
      "wav2vec2.feature_extractor.conv_layers.2.conv.bias - Trainable\n",
      "wav2vec2.feature_extractor.conv_layers.2.layer_norm.weight - Trainable\n",
      "wav2vec2.feature_extractor.conv_layers.2.layer_norm.bias - Trainable\n",
      "wav2vec2.feature_extractor.conv_layers.3.conv.weight - Trainable\n",
      "wav2vec2.feature_extractor.conv_layers.3.conv.bias - Trainable\n",
      "wav2vec2.feature_extractor.conv_layers.3.layer_norm.weight - Trainable\n",
      "wav2vec2.feature_extractor.conv_layers.3.layer_norm.bias - Trainable\n",
      "wav2vec2.feature_extractor.conv_layers.4.conv.weight - Trainable\n",
      "wav2vec2.feature_extractor.conv_layers.4.conv.bias - Trainable\n",
      "wav2vec2.feature_extractor.conv_layers.4.layer_norm.weight - Trainable\n",
      "wav2vec2.feature_extractor.conv_layers.4.layer_norm.bias - Trainable\n",
      "wav2vec2.feature_extractor.conv_layers.5.conv.weight - Trainable\n",
      "wav2vec2.feature_extractor.conv_layers.5.conv.bias - Trainable\n",
      "wav2vec2.feature_extractor.conv_layers.5.layer_norm.weight - Trainable\n",
      "wav2vec2.feature_extractor.conv_layers.5.layer_norm.bias - Trainable\n",
      "wav2vec2.feature_extractor.conv_layers.6.conv.weight - Trainable\n",
      "wav2vec2.feature_extractor.conv_layers.6.conv.bias - Trainable\n",
      "wav2vec2.feature_extractor.conv_layers.6.layer_norm.weight - Trainable\n",
      "wav2vec2.feature_extractor.conv_layers.6.layer_norm.bias - Trainable\n",
      "wav2vec2.feature_projection.layer_norm.weight - Trainable\n",
      "wav2vec2.feature_projection.layer_norm.bias - Trainable\n",
      "wav2vec2.feature_projection.projection.weight - Trainable\n",
      "wav2vec2.feature_projection.projection.bias - Trainable\n",
      "wav2vec2.encoder.pos_conv_embed.conv.bias - Trainable\n",
      "wav2vec2.encoder.pos_conv_embed.conv.parametrizations.weight.original0 - Trainable\n",
      "wav2vec2.encoder.pos_conv_embed.conv.parametrizations.weight.original1 - Trainable\n",
      "wav2vec2.encoder.layer_norm.weight - Trainable\n",
      "wav2vec2.encoder.layer_norm.bias - Trainable\n",
      "wav2vec2.encoder.layers.0.attention.k_proj.weight - Trainable\n",
      "wav2vec2.encoder.layers.0.attention.k_proj.bias - Trainable\n",
      "wav2vec2.encoder.layers.0.attention.v_proj.weight - Trainable\n",
      "wav2vec2.encoder.layers.0.attention.v_proj.bias - Trainable\n",
      "wav2vec2.encoder.layers.0.attention.q_proj.weight - Trainable\n",
      "wav2vec2.encoder.layers.0.attention.q_proj.bias - Trainable\n",
      "wav2vec2.encoder.layers.0.attention.out_proj.weight - Trainable\n",
      "wav2vec2.encoder.layers.0.attention.out_proj.bias - Trainable\n",
      "wav2vec2.encoder.layers.0.layer_norm.weight - Trainable\n",
      "wav2vec2.encoder.layers.0.layer_norm.bias - Trainable\n",
      "wav2vec2.encoder.layers.0.feed_forward.intermediate_dense.weight - Trainable\n",
      "wav2vec2.encoder.layers.0.feed_forward.intermediate_dense.bias - Trainable\n",
      "wav2vec2.encoder.layers.0.feed_forward.output_dense.weight - Trainable\n",
      "wav2vec2.encoder.layers.0.feed_forward.output_dense.bias - Trainable\n",
      "wav2vec2.encoder.layers.0.final_layer_norm.weight - Trainable\n",
      "wav2vec2.encoder.layers.0.final_layer_norm.bias - Trainable\n",
      "wav2vec2.encoder.layers.1.attention.k_proj.weight - Trainable\n",
      "wav2vec2.encoder.layers.1.attention.k_proj.bias - Trainable\n",
      "wav2vec2.encoder.layers.1.attention.v_proj.weight - Trainable\n",
      "wav2vec2.encoder.layers.1.attention.v_proj.bias - Trainable\n",
      "wav2vec2.encoder.layers.1.attention.q_proj.weight - Trainable\n",
      "wav2vec2.encoder.layers.1.attention.q_proj.bias - Trainable\n",
      "wav2vec2.encoder.layers.1.attention.out_proj.weight - Trainable\n",
      "wav2vec2.encoder.layers.1.attention.out_proj.bias - Trainable\n",
      "wav2vec2.encoder.layers.1.layer_norm.weight - Trainable\n",
      "wav2vec2.encoder.layers.1.layer_norm.bias - Trainable\n",
      "wav2vec2.encoder.layers.1.feed_forward.intermediate_dense.weight - Trainable\n",
      "wav2vec2.encoder.layers.1.feed_forward.intermediate_dense.bias - Trainable\n",
      "wav2vec2.encoder.layers.1.feed_forward.output_dense.weight - Trainable\n",
      "wav2vec2.encoder.layers.1.feed_forward.output_dense.bias - Trainable\n",
      "wav2vec2.encoder.layers.1.final_layer_norm.weight - Trainable\n",
      "wav2vec2.encoder.layers.1.final_layer_norm.bias - Trainable\n",
      "wav2vec2.encoder.layers.2.attention.k_proj.weight - Trainable\n",
      "wav2vec2.encoder.layers.2.attention.k_proj.bias - Trainable\n",
      "wav2vec2.encoder.layers.2.attention.v_proj.weight - Trainable\n",
      "wav2vec2.encoder.layers.2.attention.v_proj.bias - Trainable\n",
      "wav2vec2.encoder.layers.2.attention.q_proj.weight - Trainable\n",
      "wav2vec2.encoder.layers.2.attention.q_proj.bias - Trainable\n",
      "wav2vec2.encoder.layers.2.attention.out_proj.weight - Trainable\n",
      "wav2vec2.encoder.layers.2.attention.out_proj.bias - Trainable\n",
      "wav2vec2.encoder.layers.2.layer_norm.weight - Trainable\n",
      "wav2vec2.encoder.layers.2.layer_norm.bias - Trainable\n",
      "wav2vec2.encoder.layers.2.feed_forward.intermediate_dense.weight - Trainable\n",
      "wav2vec2.encoder.layers.2.feed_forward.intermediate_dense.bias - Trainable\n",
      "wav2vec2.encoder.layers.2.feed_forward.output_dense.weight - Trainable\n",
      "wav2vec2.encoder.layers.2.feed_forward.output_dense.bias - Trainable\n",
      "wav2vec2.encoder.layers.2.final_layer_norm.weight - Trainable\n",
      "wav2vec2.encoder.layers.2.final_layer_norm.bias - Trainable\n",
      "wav2vec2.encoder.layers.3.attention.k_proj.weight - Trainable\n",
      "wav2vec2.encoder.layers.3.attention.k_proj.bias - Trainable\n",
      "wav2vec2.encoder.layers.3.attention.v_proj.weight - Trainable\n",
      "wav2vec2.encoder.layers.3.attention.v_proj.bias - Trainable\n",
      "wav2vec2.encoder.layers.3.attention.q_proj.weight - Trainable\n",
      "wav2vec2.encoder.layers.3.attention.q_proj.bias - Trainable\n",
      "wav2vec2.encoder.layers.3.attention.out_proj.weight - Trainable\n",
      "wav2vec2.encoder.layers.3.attention.out_proj.bias - Trainable\n",
      "wav2vec2.encoder.layers.3.layer_norm.weight - Trainable\n",
      "wav2vec2.encoder.layers.3.layer_norm.bias - Trainable\n",
      "wav2vec2.encoder.layers.3.feed_forward.intermediate_dense.weight - Trainable\n",
      "wav2vec2.encoder.layers.3.feed_forward.intermediate_dense.bias - Trainable\n",
      "wav2vec2.encoder.layers.3.feed_forward.output_dense.weight - Trainable\n",
      "wav2vec2.encoder.layers.3.feed_forward.output_dense.bias - Trainable\n",
      "wav2vec2.encoder.layers.3.final_layer_norm.weight - Trainable\n",
      "wav2vec2.encoder.layers.3.final_layer_norm.bias - Trainable\n",
      "wav2vec2.encoder.layers.4.attention.k_proj.weight - Trainable\n",
      "wav2vec2.encoder.layers.4.attention.k_proj.bias - Trainable\n",
      "wav2vec2.encoder.layers.4.attention.v_proj.weight - Trainable\n",
      "wav2vec2.encoder.layers.4.attention.v_proj.bias - Trainable\n",
      "wav2vec2.encoder.layers.4.attention.q_proj.weight - Trainable\n",
      "wav2vec2.encoder.layers.4.attention.q_proj.bias - Trainable\n",
      "wav2vec2.encoder.layers.4.attention.out_proj.weight - Trainable\n",
      "wav2vec2.encoder.layers.4.attention.out_proj.bias - Trainable\n",
      "wav2vec2.encoder.layers.4.layer_norm.weight - Trainable\n",
      "wav2vec2.encoder.layers.4.layer_norm.bias - Trainable\n",
      "wav2vec2.encoder.layers.4.feed_forward.intermediate_dense.weight - Trainable\n",
      "wav2vec2.encoder.layers.4.feed_forward.intermediate_dense.bias - Trainable\n",
      "wav2vec2.encoder.layers.4.feed_forward.output_dense.weight - Trainable\n",
      "wav2vec2.encoder.layers.4.feed_forward.output_dense.bias - Trainable\n",
      "wav2vec2.encoder.layers.4.final_layer_norm.weight - Trainable\n",
      "wav2vec2.encoder.layers.4.final_layer_norm.bias - Trainable\n",
      "wav2vec2.encoder.layers.5.attention.k_proj.weight - Trainable\n",
      "wav2vec2.encoder.layers.5.attention.k_proj.bias - Trainable\n",
      "wav2vec2.encoder.layers.5.attention.v_proj.weight - Trainable\n",
      "wav2vec2.encoder.layers.5.attention.v_proj.bias - Trainable\n",
      "wav2vec2.encoder.layers.5.attention.q_proj.weight - Trainable\n",
      "wav2vec2.encoder.layers.5.attention.q_proj.bias - Trainable\n",
      "wav2vec2.encoder.layers.5.attention.out_proj.weight - Trainable\n",
      "wav2vec2.encoder.layers.5.attention.out_proj.bias - Trainable\n",
      "wav2vec2.encoder.layers.5.layer_norm.weight - Trainable\n",
      "wav2vec2.encoder.layers.5.layer_norm.bias - Trainable\n",
      "wav2vec2.encoder.layers.5.feed_forward.intermediate_dense.weight - Trainable\n",
      "wav2vec2.encoder.layers.5.feed_forward.intermediate_dense.bias - Trainable\n",
      "wav2vec2.encoder.layers.5.feed_forward.output_dense.weight - Trainable\n",
      "wav2vec2.encoder.layers.5.feed_forward.output_dense.bias - Trainable\n",
      "wav2vec2.encoder.layers.5.final_layer_norm.weight - Trainable\n",
      "wav2vec2.encoder.layers.5.final_layer_norm.bias - Trainable\n",
      "wav2vec2.encoder.layers.6.attention.k_proj.weight - Trainable\n",
      "wav2vec2.encoder.layers.6.attention.k_proj.bias - Trainable\n",
      "wav2vec2.encoder.layers.6.attention.v_proj.weight - Trainable\n",
      "wav2vec2.encoder.layers.6.attention.v_proj.bias - Trainable\n",
      "wav2vec2.encoder.layers.6.attention.q_proj.weight - Trainable\n",
      "wav2vec2.encoder.layers.6.attention.q_proj.bias - Trainable\n",
      "wav2vec2.encoder.layers.6.attention.out_proj.weight - Trainable\n",
      "wav2vec2.encoder.layers.6.attention.out_proj.bias - Trainable\n",
      "wav2vec2.encoder.layers.6.layer_norm.weight - Trainable\n",
      "wav2vec2.encoder.layers.6.layer_norm.bias - Trainable\n",
      "wav2vec2.encoder.layers.6.feed_forward.intermediate_dense.weight - Trainable\n",
      "wav2vec2.encoder.layers.6.feed_forward.intermediate_dense.bias - Trainable\n",
      "wav2vec2.encoder.layers.6.feed_forward.output_dense.weight - Trainable\n",
      "wav2vec2.encoder.layers.6.feed_forward.output_dense.bias - Trainable\n",
      "wav2vec2.encoder.layers.6.final_layer_norm.weight - Trainable\n",
      "wav2vec2.encoder.layers.6.final_layer_norm.bias - Trainable\n",
      "wav2vec2.encoder.layers.7.attention.k_proj.weight - Trainable\n",
      "wav2vec2.encoder.layers.7.attention.k_proj.bias - Trainable\n",
      "wav2vec2.encoder.layers.7.attention.v_proj.weight - Trainable\n",
      "wav2vec2.encoder.layers.7.attention.v_proj.bias - Trainable\n",
      "wav2vec2.encoder.layers.7.attention.q_proj.weight - Trainable\n",
      "wav2vec2.encoder.layers.7.attention.q_proj.bias - Trainable\n",
      "wav2vec2.encoder.layers.7.attention.out_proj.weight - Trainable\n",
      "wav2vec2.encoder.layers.7.attention.out_proj.bias - Trainable\n",
      "wav2vec2.encoder.layers.7.layer_norm.weight - Trainable\n",
      "wav2vec2.encoder.layers.7.layer_norm.bias - Trainable\n",
      "wav2vec2.encoder.layers.7.feed_forward.intermediate_dense.weight - Trainable\n",
      "wav2vec2.encoder.layers.7.feed_forward.intermediate_dense.bias - Trainable\n",
      "wav2vec2.encoder.layers.7.feed_forward.output_dense.weight - Trainable\n",
      "wav2vec2.encoder.layers.7.feed_forward.output_dense.bias - Trainable\n",
      "wav2vec2.encoder.layers.7.final_layer_norm.weight - Trainable\n",
      "wav2vec2.encoder.layers.7.final_layer_norm.bias - Trainable\n",
      "wav2vec2.encoder.layers.8.attention.k_proj.weight - Trainable\n",
      "wav2vec2.encoder.layers.8.attention.k_proj.bias - Trainable\n",
      "wav2vec2.encoder.layers.8.attention.v_proj.weight - Trainable\n",
      "wav2vec2.encoder.layers.8.attention.v_proj.bias - Trainable\n",
      "wav2vec2.encoder.layers.8.attention.q_proj.weight - Trainable\n",
      "wav2vec2.encoder.layers.8.attention.q_proj.bias - Trainable\n",
      "wav2vec2.encoder.layers.8.attention.out_proj.weight - Trainable\n",
      "wav2vec2.encoder.layers.8.attention.out_proj.bias - Trainable\n",
      "wav2vec2.encoder.layers.8.layer_norm.weight - Trainable\n",
      "wav2vec2.encoder.layers.8.layer_norm.bias - Trainable\n",
      "wav2vec2.encoder.layers.8.feed_forward.intermediate_dense.weight - Trainable\n",
      "wav2vec2.encoder.layers.8.feed_forward.intermediate_dense.bias - Trainable\n",
      "wav2vec2.encoder.layers.8.feed_forward.output_dense.weight - Trainable\n",
      "wav2vec2.encoder.layers.8.feed_forward.output_dense.bias - Trainable\n",
      "wav2vec2.encoder.layers.8.final_layer_norm.weight - Trainable\n",
      "wav2vec2.encoder.layers.8.final_layer_norm.bias - Trainable\n",
      "wav2vec2.encoder.layers.9.attention.k_proj.weight - Trainable\n",
      "wav2vec2.encoder.layers.9.attention.k_proj.bias - Trainable\n",
      "wav2vec2.encoder.layers.9.attention.v_proj.weight - Trainable\n",
      "wav2vec2.encoder.layers.9.attention.v_proj.bias - Trainable\n",
      "wav2vec2.encoder.layers.9.attention.q_proj.weight - Trainable\n",
      "wav2vec2.encoder.layers.9.attention.q_proj.bias - Trainable\n",
      "wav2vec2.encoder.layers.9.attention.out_proj.weight - Trainable\n",
      "wav2vec2.encoder.layers.9.attention.out_proj.bias - Trainable\n",
      "wav2vec2.encoder.layers.9.layer_norm.weight - Trainable\n",
      "wav2vec2.encoder.layers.9.layer_norm.bias - Trainable\n",
      "wav2vec2.encoder.layers.9.feed_forward.intermediate_dense.weight - Trainable\n",
      "wav2vec2.encoder.layers.9.feed_forward.intermediate_dense.bias - Trainable\n",
      "wav2vec2.encoder.layers.9.feed_forward.output_dense.weight - Trainable\n",
      "wav2vec2.encoder.layers.9.feed_forward.output_dense.bias - Trainable\n",
      "wav2vec2.encoder.layers.9.final_layer_norm.weight - Trainable\n",
      "wav2vec2.encoder.layers.9.final_layer_norm.bias - Trainable\n",
      "wav2vec2.encoder.layers.10.attention.k_proj.weight - Trainable\n",
      "wav2vec2.encoder.layers.10.attention.k_proj.bias - Trainable\n",
      "wav2vec2.encoder.layers.10.attention.v_proj.weight - Trainable\n",
      "wav2vec2.encoder.layers.10.attention.v_proj.bias - Trainable\n",
      "wav2vec2.encoder.layers.10.attention.q_proj.weight - Trainable\n",
      "wav2vec2.encoder.layers.10.attention.q_proj.bias - Trainable\n",
      "wav2vec2.encoder.layers.10.attention.out_proj.weight - Trainable\n",
      "wav2vec2.encoder.layers.10.attention.out_proj.bias - Trainable\n",
      "wav2vec2.encoder.layers.10.layer_norm.weight - Trainable\n",
      "wav2vec2.encoder.layers.10.layer_norm.bias - Trainable\n",
      "wav2vec2.encoder.layers.10.feed_forward.intermediate_dense.weight - Trainable\n",
      "wav2vec2.encoder.layers.10.feed_forward.intermediate_dense.bias - Trainable\n",
      "wav2vec2.encoder.layers.10.feed_forward.output_dense.weight - Trainable\n",
      "wav2vec2.encoder.layers.10.feed_forward.output_dense.bias - Trainable\n",
      "wav2vec2.encoder.layers.10.final_layer_norm.weight - Trainable\n",
      "wav2vec2.encoder.layers.10.final_layer_norm.bias - Trainable\n",
      "wav2vec2.encoder.layers.11.attention.k_proj.weight - Trainable\n",
      "wav2vec2.encoder.layers.11.attention.k_proj.bias - Trainable\n",
      "wav2vec2.encoder.layers.11.attention.v_proj.weight - Trainable\n",
      "wav2vec2.encoder.layers.11.attention.v_proj.bias - Trainable\n",
      "wav2vec2.encoder.layers.11.attention.q_proj.weight - Trainable\n",
      "wav2vec2.encoder.layers.11.attention.q_proj.bias - Trainable\n",
      "wav2vec2.encoder.layers.11.attention.out_proj.weight - Trainable\n",
      "wav2vec2.encoder.layers.11.attention.out_proj.bias - Trainable\n",
      "wav2vec2.encoder.layers.11.layer_norm.weight - Trainable\n",
      "wav2vec2.encoder.layers.11.layer_norm.bias - Trainable\n",
      "wav2vec2.encoder.layers.11.feed_forward.intermediate_dense.weight - Trainable\n",
      "wav2vec2.encoder.layers.11.feed_forward.intermediate_dense.bias - Trainable\n",
      "wav2vec2.encoder.layers.11.feed_forward.output_dense.weight - Trainable\n",
      "wav2vec2.encoder.layers.11.feed_forward.output_dense.bias - Trainable\n",
      "wav2vec2.encoder.layers.11.final_layer_norm.weight - Trainable\n",
      "wav2vec2.encoder.layers.11.final_layer_norm.bias - Trainable\n",
      "wav2vec2.encoder.layers.12.attention.k_proj.weight - Trainable\n",
      "wav2vec2.encoder.layers.12.attention.k_proj.bias - Trainable\n",
      "wav2vec2.encoder.layers.12.attention.v_proj.weight - Trainable\n",
      "wav2vec2.encoder.layers.12.attention.v_proj.bias - Trainable\n",
      "wav2vec2.encoder.layers.12.attention.q_proj.weight - Trainable\n",
      "wav2vec2.encoder.layers.12.attention.q_proj.bias - Trainable\n",
      "wav2vec2.encoder.layers.12.attention.out_proj.weight - Trainable\n",
      "wav2vec2.encoder.layers.12.attention.out_proj.bias - Trainable\n",
      "wav2vec2.encoder.layers.12.layer_norm.weight - Trainable\n",
      "wav2vec2.encoder.layers.12.layer_norm.bias - Trainable\n",
      "wav2vec2.encoder.layers.12.feed_forward.intermediate_dense.weight - Trainable\n",
      "wav2vec2.encoder.layers.12.feed_forward.intermediate_dense.bias - Trainable\n",
      "wav2vec2.encoder.layers.12.feed_forward.output_dense.weight - Trainable\n",
      "wav2vec2.encoder.layers.12.feed_forward.output_dense.bias - Trainable\n",
      "wav2vec2.encoder.layers.12.final_layer_norm.weight - Trainable\n",
      "wav2vec2.encoder.layers.12.final_layer_norm.bias - Trainable\n",
      "wav2vec2.encoder.layers.13.attention.k_proj.weight - Trainable\n",
      "wav2vec2.encoder.layers.13.attention.k_proj.bias - Trainable\n",
      "wav2vec2.encoder.layers.13.attention.v_proj.weight - Trainable\n",
      "wav2vec2.encoder.layers.13.attention.v_proj.bias - Trainable\n",
      "wav2vec2.encoder.layers.13.attention.q_proj.weight - Trainable\n",
      "wav2vec2.encoder.layers.13.attention.q_proj.bias - Trainable\n",
      "wav2vec2.encoder.layers.13.attention.out_proj.weight - Trainable\n",
      "wav2vec2.encoder.layers.13.attention.out_proj.bias - Trainable\n",
      "wav2vec2.encoder.layers.13.layer_norm.weight - Trainable\n",
      "wav2vec2.encoder.layers.13.layer_norm.bias - Trainable\n",
      "wav2vec2.encoder.layers.13.feed_forward.intermediate_dense.weight - Trainable\n",
      "wav2vec2.encoder.layers.13.feed_forward.intermediate_dense.bias - Trainable\n",
      "wav2vec2.encoder.layers.13.feed_forward.output_dense.weight - Trainable\n",
      "wav2vec2.encoder.layers.13.feed_forward.output_dense.bias - Trainable\n",
      "wav2vec2.encoder.layers.13.final_layer_norm.weight - Trainable\n",
      "wav2vec2.encoder.layers.13.final_layer_norm.bias - Trainable\n",
      "wav2vec2.encoder.layers.14.attention.k_proj.weight - Trainable\n",
      "wav2vec2.encoder.layers.14.attention.k_proj.bias - Trainable\n",
      "wav2vec2.encoder.layers.14.attention.v_proj.weight - Trainable\n",
      "wav2vec2.encoder.layers.14.attention.v_proj.bias - Trainable\n",
      "wav2vec2.encoder.layers.14.attention.q_proj.weight - Trainable\n",
      "wav2vec2.encoder.layers.14.attention.q_proj.bias - Trainable\n",
      "wav2vec2.encoder.layers.14.attention.out_proj.weight - Trainable\n",
      "wav2vec2.encoder.layers.14.attention.out_proj.bias - Trainable\n",
      "wav2vec2.encoder.layers.14.layer_norm.weight - Trainable\n",
      "wav2vec2.encoder.layers.14.layer_norm.bias - Trainable\n",
      "wav2vec2.encoder.layers.14.feed_forward.intermediate_dense.weight - Trainable\n",
      "wav2vec2.encoder.layers.14.feed_forward.intermediate_dense.bias - Trainable\n",
      "wav2vec2.encoder.layers.14.feed_forward.output_dense.weight - Trainable\n",
      "wav2vec2.encoder.layers.14.feed_forward.output_dense.bias - Trainable\n",
      "wav2vec2.encoder.layers.14.final_layer_norm.weight - Trainable\n",
      "wav2vec2.encoder.layers.14.final_layer_norm.bias - Trainable\n",
      "wav2vec2.encoder.layers.15.attention.k_proj.weight - Trainable\n",
      "wav2vec2.encoder.layers.15.attention.k_proj.bias - Trainable\n",
      "wav2vec2.encoder.layers.15.attention.v_proj.weight - Trainable\n",
      "wav2vec2.encoder.layers.15.attention.v_proj.bias - Trainable\n",
      "wav2vec2.encoder.layers.15.attention.q_proj.weight - Trainable\n",
      "wav2vec2.encoder.layers.15.attention.q_proj.bias - Trainable\n",
      "wav2vec2.encoder.layers.15.attention.out_proj.weight - Trainable\n",
      "wav2vec2.encoder.layers.15.attention.out_proj.bias - Trainable\n",
      "wav2vec2.encoder.layers.15.layer_norm.weight - Trainable\n",
      "wav2vec2.encoder.layers.15.layer_norm.bias - Trainable\n",
      "wav2vec2.encoder.layers.15.feed_forward.intermediate_dense.weight - Trainable\n",
      "wav2vec2.encoder.layers.15.feed_forward.intermediate_dense.bias - Trainable\n",
      "wav2vec2.encoder.layers.15.feed_forward.output_dense.weight - Trainable\n",
      "wav2vec2.encoder.layers.15.feed_forward.output_dense.bias - Trainable\n",
      "wav2vec2.encoder.layers.15.final_layer_norm.weight - Trainable\n",
      "wav2vec2.encoder.layers.15.final_layer_norm.bias - Trainable\n",
      "wav2vec2.encoder.layers.16.attention.k_proj.weight - Trainable\n",
      "wav2vec2.encoder.layers.16.attention.k_proj.bias - Trainable\n",
      "wav2vec2.encoder.layers.16.attention.v_proj.weight - Trainable\n",
      "wav2vec2.encoder.layers.16.attention.v_proj.bias - Trainable\n",
      "wav2vec2.encoder.layers.16.attention.q_proj.weight - Trainable\n",
      "wav2vec2.encoder.layers.16.attention.q_proj.bias - Trainable\n",
      "wav2vec2.encoder.layers.16.attention.out_proj.weight - Trainable\n",
      "wav2vec2.encoder.layers.16.attention.out_proj.bias - Trainable\n",
      "wav2vec2.encoder.layers.16.layer_norm.weight - Trainable\n",
      "wav2vec2.encoder.layers.16.layer_norm.bias - Trainable\n",
      "wav2vec2.encoder.layers.16.feed_forward.intermediate_dense.weight - Trainable\n",
      "wav2vec2.encoder.layers.16.feed_forward.intermediate_dense.bias - Trainable\n",
      "wav2vec2.encoder.layers.16.feed_forward.output_dense.weight - Trainable\n",
      "wav2vec2.encoder.layers.16.feed_forward.output_dense.bias - Trainable\n",
      "wav2vec2.encoder.layers.16.final_layer_norm.weight - Trainable\n",
      "wav2vec2.encoder.layers.16.final_layer_norm.bias - Trainable\n",
      "wav2vec2.encoder.layers.17.attention.k_proj.weight - Trainable\n",
      "wav2vec2.encoder.layers.17.attention.k_proj.bias - Trainable\n",
      "wav2vec2.encoder.layers.17.attention.v_proj.weight - Trainable\n",
      "wav2vec2.encoder.layers.17.attention.v_proj.bias - Trainable\n",
      "wav2vec2.encoder.layers.17.attention.q_proj.weight - Trainable\n",
      "wav2vec2.encoder.layers.17.attention.q_proj.bias - Trainable\n",
      "wav2vec2.encoder.layers.17.attention.out_proj.weight - Trainable\n",
      "wav2vec2.encoder.layers.17.attention.out_proj.bias - Trainable\n",
      "wav2vec2.encoder.layers.17.layer_norm.weight - Trainable\n",
      "wav2vec2.encoder.layers.17.layer_norm.bias - Trainable\n",
      "wav2vec2.encoder.layers.17.feed_forward.intermediate_dense.weight - Trainable\n",
      "wav2vec2.encoder.layers.17.feed_forward.intermediate_dense.bias - Trainable\n",
      "wav2vec2.encoder.layers.17.feed_forward.output_dense.weight - Trainable\n",
      "wav2vec2.encoder.layers.17.feed_forward.output_dense.bias - Trainable\n",
      "wav2vec2.encoder.layers.17.final_layer_norm.weight - Trainable\n",
      "wav2vec2.encoder.layers.17.final_layer_norm.bias - Trainable\n",
      "wav2vec2.encoder.layers.18.attention.k_proj.weight - Trainable\n",
      "wav2vec2.encoder.layers.18.attention.k_proj.bias - Trainable\n",
      "wav2vec2.encoder.layers.18.attention.v_proj.weight - Trainable\n",
      "wav2vec2.encoder.layers.18.attention.v_proj.bias - Trainable\n",
      "wav2vec2.encoder.layers.18.attention.q_proj.weight - Trainable\n",
      "wav2vec2.encoder.layers.18.attention.q_proj.bias - Trainable\n",
      "wav2vec2.encoder.layers.18.attention.out_proj.weight - Trainable\n",
      "wav2vec2.encoder.layers.18.attention.out_proj.bias - Trainable\n",
      "wav2vec2.encoder.layers.18.layer_norm.weight - Trainable\n",
      "wav2vec2.encoder.layers.18.layer_norm.bias - Trainable\n",
      "wav2vec2.encoder.layers.18.feed_forward.intermediate_dense.weight - Trainable\n",
      "wav2vec2.encoder.layers.18.feed_forward.intermediate_dense.bias - Trainable\n",
      "wav2vec2.encoder.layers.18.feed_forward.output_dense.weight - Trainable\n",
      "wav2vec2.encoder.layers.18.feed_forward.output_dense.bias - Trainable\n",
      "wav2vec2.encoder.layers.18.final_layer_norm.weight - Trainable\n",
      "wav2vec2.encoder.layers.18.final_layer_norm.bias - Trainable\n",
      "wav2vec2.encoder.layers.19.attention.k_proj.weight - Trainable\n",
      "wav2vec2.encoder.layers.19.attention.k_proj.bias - Trainable\n",
      "wav2vec2.encoder.layers.19.attention.v_proj.weight - Trainable\n",
      "wav2vec2.encoder.layers.19.attention.v_proj.bias - Trainable\n",
      "wav2vec2.encoder.layers.19.attention.q_proj.weight - Trainable\n",
      "wav2vec2.encoder.layers.19.attention.q_proj.bias - Trainable\n",
      "wav2vec2.encoder.layers.19.attention.out_proj.weight - Trainable\n",
      "wav2vec2.encoder.layers.19.attention.out_proj.bias - Trainable\n",
      "wav2vec2.encoder.layers.19.layer_norm.weight - Trainable\n",
      "wav2vec2.encoder.layers.19.layer_norm.bias - Trainable\n",
      "wav2vec2.encoder.layers.19.feed_forward.intermediate_dense.weight - Trainable\n",
      "wav2vec2.encoder.layers.19.feed_forward.intermediate_dense.bias - Trainable\n",
      "wav2vec2.encoder.layers.19.feed_forward.output_dense.weight - Trainable\n",
      "wav2vec2.encoder.layers.19.feed_forward.output_dense.bias - Trainable\n",
      "wav2vec2.encoder.layers.19.final_layer_norm.weight - Trainable\n",
      "wav2vec2.encoder.layers.19.final_layer_norm.bias - Trainable\n",
      "wav2vec2.encoder.layers.20.attention.k_proj.weight - Trainable\n",
      "wav2vec2.encoder.layers.20.attention.k_proj.bias - Trainable\n",
      "wav2vec2.encoder.layers.20.attention.v_proj.weight - Trainable\n",
      "wav2vec2.encoder.layers.20.attention.v_proj.bias - Trainable\n",
      "wav2vec2.encoder.layers.20.attention.q_proj.weight - Trainable\n",
      "wav2vec2.encoder.layers.20.attention.q_proj.bias - Trainable\n",
      "wav2vec2.encoder.layers.20.attention.out_proj.weight - Trainable\n",
      "wav2vec2.encoder.layers.20.attention.out_proj.bias - Trainable\n",
      "wav2vec2.encoder.layers.20.layer_norm.weight - Trainable\n",
      "wav2vec2.encoder.layers.20.layer_norm.bias - Trainable\n",
      "wav2vec2.encoder.layers.20.feed_forward.intermediate_dense.weight - Trainable\n",
      "wav2vec2.encoder.layers.20.feed_forward.intermediate_dense.bias - Trainable\n",
      "wav2vec2.encoder.layers.20.feed_forward.output_dense.weight - Trainable\n",
      "wav2vec2.encoder.layers.20.feed_forward.output_dense.bias - Trainable\n",
      "wav2vec2.encoder.layers.20.final_layer_norm.weight - Trainable\n",
      "wav2vec2.encoder.layers.20.final_layer_norm.bias - Trainable\n",
      "wav2vec2.encoder.layers.21.attention.k_proj.weight - Trainable\n",
      "wav2vec2.encoder.layers.21.attention.k_proj.bias - Trainable\n",
      "wav2vec2.encoder.layers.21.attention.v_proj.weight - Trainable\n",
      "wav2vec2.encoder.layers.21.attention.v_proj.bias - Trainable\n",
      "wav2vec2.encoder.layers.21.attention.q_proj.weight - Trainable\n",
      "wav2vec2.encoder.layers.21.attention.q_proj.bias - Trainable\n",
      "wav2vec2.encoder.layers.21.attention.out_proj.weight - Trainable\n",
      "wav2vec2.encoder.layers.21.attention.out_proj.bias - Trainable\n",
      "wav2vec2.encoder.layers.21.layer_norm.weight - Trainable\n",
      "wav2vec2.encoder.layers.21.layer_norm.bias - Trainable\n",
      "wav2vec2.encoder.layers.21.feed_forward.intermediate_dense.weight - Trainable\n",
      "wav2vec2.encoder.layers.21.feed_forward.intermediate_dense.bias - Trainable\n",
      "wav2vec2.encoder.layers.21.feed_forward.output_dense.weight - Trainable\n",
      "wav2vec2.encoder.layers.21.feed_forward.output_dense.bias - Trainable\n",
      "wav2vec2.encoder.layers.21.final_layer_norm.weight - Trainable\n",
      "wav2vec2.encoder.layers.21.final_layer_norm.bias - Trainable\n",
      "wav2vec2.encoder.layers.22.attention.k_proj.weight - Trainable\n",
      "wav2vec2.encoder.layers.22.attention.k_proj.bias - Trainable\n",
      "wav2vec2.encoder.layers.22.attention.v_proj.weight - Trainable\n",
      "wav2vec2.encoder.layers.22.attention.v_proj.bias - Trainable\n",
      "wav2vec2.encoder.layers.22.attention.q_proj.weight - Trainable\n",
      "wav2vec2.encoder.layers.22.attention.q_proj.bias - Trainable\n",
      "wav2vec2.encoder.layers.22.attention.out_proj.weight - Trainable\n",
      "wav2vec2.encoder.layers.22.attention.out_proj.bias - Trainable\n",
      "wav2vec2.encoder.layers.22.layer_norm.weight - Trainable\n",
      "wav2vec2.encoder.layers.22.layer_norm.bias - Trainable\n",
      "wav2vec2.encoder.layers.22.feed_forward.intermediate_dense.weight - Trainable\n",
      "wav2vec2.encoder.layers.22.feed_forward.intermediate_dense.bias - Trainable\n",
      "wav2vec2.encoder.layers.22.feed_forward.output_dense.weight - Trainable\n",
      "wav2vec2.encoder.layers.22.feed_forward.output_dense.bias - Trainable\n",
      "wav2vec2.encoder.layers.22.final_layer_norm.weight - Trainable\n",
      "wav2vec2.encoder.layers.22.final_layer_norm.bias - Trainable\n",
      "wav2vec2.encoder.layers.23.attention.k_proj.weight - Trainable\n",
      "wav2vec2.encoder.layers.23.attention.k_proj.bias - Trainable\n",
      "wav2vec2.encoder.layers.23.attention.v_proj.weight - Trainable\n",
      "wav2vec2.encoder.layers.23.attention.v_proj.bias - Trainable\n",
      "wav2vec2.encoder.layers.23.attention.q_proj.weight - Trainable\n",
      "wav2vec2.encoder.layers.23.attention.q_proj.bias - Trainable\n",
      "wav2vec2.encoder.layers.23.attention.out_proj.weight - Trainable\n",
      "wav2vec2.encoder.layers.23.attention.out_proj.bias - Trainable\n",
      "wav2vec2.encoder.layers.23.layer_norm.weight - Trainable\n",
      "wav2vec2.encoder.layers.23.layer_norm.bias - Trainable\n",
      "wav2vec2.encoder.layers.23.feed_forward.intermediate_dense.weight - Trainable\n",
      "wav2vec2.encoder.layers.23.feed_forward.intermediate_dense.bias - Trainable\n",
      "wav2vec2.encoder.layers.23.feed_forward.output_dense.weight - Trainable\n",
      "wav2vec2.encoder.layers.23.feed_forward.output_dense.bias - Trainable\n",
      "wav2vec2.encoder.layers.23.final_layer_norm.weight - Trainable\n",
      "wav2vec2.encoder.layers.23.final_layer_norm.bias - Trainable\n",
      "lm_head.weight - Trainable\n",
      "lm_head.bias - Trainable\n"
     ]
    }
   ],
   "source": [
    "for name, param in model.named_parameters():\n",
    "    if param.requires_grad:\n",
    "        print(f\"{name} - Trainable\")\n",
    "    else:\n",
    "        print(f\"{name} - Frozen\")"
   ]
  },
  {
   "cell_type": "code",
   "execution_count": 4,
   "metadata": {},
   "outputs": [
    {
     "name": "stderr",
     "output_type": "stream",
     "text": [
      "d:\\Tugas Akhir\\STT-1\\Fine-Tuning\\finetune-env\\Lib\\site-packages\\transformers\\configuration_utils.py:315: UserWarning: Passing `gradient_checkpointing` to a config initialization is deprecated and will be removed in v5 Transformers. Using `model.gradient_checkpointing_enable()` instead, or if you are using the `Trainer` API, pass `gradient_checkpointing=True` in your `TrainingArguments`.\n",
      "  warnings.warn(\n"
     ]
    }
   ],
   "source": [
    "base_model = Wav2Vec2ForCTC.from_pretrained(\"Wav2Vec2.0-id-Model\")"
   ]
  },
  {
   "cell_type": "code",
   "execution_count": null,
   "metadata": {},
   "outputs": [
    {
     "name": "stdout",
     "output_type": "stream",
     "text": [
      "weight has changed.\n",
      "bias has changed.\n"
     ]
    }
   ],
   "source": [
    "import torch\n",
    "base_lm = base_model.lm_head.state_dict()\n",
    "finetuned_lm = model.lm_head.state_dict()\n",
    "\n",
    "# Cek perbedaannya\n",
    "for key in base_lm:\n",
    "    if not torch.equal(base_lm[key], finetuned_lm[key]):\n",
    "        print(f\"{key} has changed.\")\n",
    "    else:\n",
    "        print(f\"{key} is unchanged.\")"
   ]
  },
  {
   "cell_type": "code",
   "execution_count": 6,
   "metadata": {},
   "outputs": [
    {
     "name": "stdout",
     "output_type": "stream",
     "text": [
      "Wav2Vec2ForCTC(\n",
      "  (wav2vec2): Wav2Vec2Model(\n",
      "    (feature_extractor): Wav2Vec2FeatureEncoder(\n",
      "      (conv_layers): ModuleList(\n",
      "        (0): Wav2Vec2LayerNormConvLayer(\n",
      "          (conv): Conv1d(1, 512, kernel_size=(10,), stride=(5,))\n",
      "          (layer_norm): LayerNorm((512,), eps=1e-05, elementwise_affine=True)\n",
      "          (activation): GELUActivation()\n",
      "        )\n",
      "        (1-4): 4 x Wav2Vec2LayerNormConvLayer(\n",
      "          (conv): Conv1d(512, 512, kernel_size=(3,), stride=(2,))\n",
      "          (layer_norm): LayerNorm((512,), eps=1e-05, elementwise_affine=True)\n",
      "          (activation): GELUActivation()\n",
      "        )\n",
      "        (5-6): 2 x Wav2Vec2LayerNormConvLayer(\n",
      "          (conv): Conv1d(512, 512, kernel_size=(2,), stride=(2,))\n",
      "          (layer_norm): LayerNorm((512,), eps=1e-05, elementwise_affine=True)\n",
      "          (activation): GELUActivation()\n",
      "        )\n",
      "      )\n",
      "    )\n",
      "    (feature_projection): Wav2Vec2FeatureProjection(\n",
      "      (layer_norm): LayerNorm((512,), eps=1e-05, elementwise_affine=True)\n",
      "      (projection): Linear(in_features=512, out_features=1024, bias=True)\n",
      "      (dropout): Dropout(p=0.04, inplace=False)\n",
      "    )\n",
      "    (encoder): Wav2Vec2EncoderStableLayerNorm(\n",
      "      (pos_conv_embed): Wav2Vec2PositionalConvEmbedding(\n",
      "        (conv): ParametrizedConv1d(\n",
      "          1024, 1024, kernel_size=(128,), stride=(1,), padding=(64,), groups=16\n",
      "          (parametrizations): ModuleDict(\n",
      "            (weight): ParametrizationList(\n",
      "              (0): _WeightNorm()\n",
      "            )\n",
      "          )\n",
      "        )\n",
      "        (padding): Wav2Vec2SamePadLayer()\n",
      "        (activation): GELUActivation()\n",
      "      )\n",
      "      (layer_norm): LayerNorm((1024,), eps=1e-05, elementwise_affine=True)\n",
      "      (dropout): Dropout(p=0.047, inplace=False)\n",
      "      (layers): ModuleList(\n",
      "        (0-23): 24 x Wav2Vec2EncoderLayerStableLayerNorm(\n",
      "          (attention): Wav2Vec2SdpaAttention(\n",
      "            (k_proj): Linear(in_features=1024, out_features=1024, bias=True)\n",
      "            (v_proj): Linear(in_features=1024, out_features=1024, bias=True)\n",
      "            (q_proj): Linear(in_features=1024, out_features=1024, bias=True)\n",
      "            (out_proj): Linear(in_features=1024, out_features=1024, bias=True)\n",
      "          )\n",
      "          (dropout): Dropout(p=0.047, inplace=False)\n",
      "          (layer_norm): LayerNorm((1024,), eps=1e-05, elementwise_affine=True)\n",
      "          (feed_forward): Wav2Vec2FeedForward(\n",
      "            (intermediate_dropout): Dropout(p=0.055, inplace=False)\n",
      "            (intermediate_dense): Linear(in_features=1024, out_features=4096, bias=True)\n",
      "            (intermediate_act_fn): GELUActivation()\n",
      "            (output_dense): Linear(in_features=4096, out_features=1024, bias=True)\n",
      "            (output_dropout): Dropout(p=0.047, inplace=False)\n",
      "          )\n",
      "          (final_layer_norm): LayerNorm((1024,), eps=1e-05, elementwise_affine=True)\n",
      "        )\n",
      "      )\n",
      "    )\n",
      "  )\n",
      "  (dropout): Dropout(p=0.0, inplace=False)\n",
      "  (lm_head): Linear(in_features=1024, out_features=28, bias=True)\n",
      ")\n"
     ]
    }
   ],
   "source": [
    "print(model)"
   ]
  },
  {
   "cell_type": "code",
   "execution_count": 12,
   "metadata": {},
   "outputs": [
    {
     "name": "stdout",
     "output_type": "stream",
     "text": [
      "Linear(in_features=1024, out_features=28, bias=True)\n"
     ]
    }
   ],
   "source": [
    "print(model.lm_head)"
   ]
  },
  {
   "cell_type": "code",
   "execution_count": 13,
   "metadata": {},
   "outputs": [
    {
     "name": "stdout",
     "output_type": "stream",
     "text": [
      "Wav2Vec2ForCTC(\n",
      "  (wav2vec2): Wav2Vec2Model(\n",
      "    (feature_extractor): Wav2Vec2FeatureEncoder(\n",
      "      (conv_layers): ModuleList(\n",
      "        (0): Wav2Vec2LayerNormConvLayer(\n",
      "          (conv): Conv1d(1, 512, kernel_size=(10,), stride=(5,))\n",
      "          (layer_norm): LayerNorm((512,), eps=1e-05, elementwise_affine=True)\n",
      "          (activation): GELUActivation()\n",
      "        )\n",
      "        (1-4): 4 x Wav2Vec2LayerNormConvLayer(\n",
      "          (conv): Conv1d(512, 512, kernel_size=(3,), stride=(2,))\n",
      "          (layer_norm): LayerNorm((512,), eps=1e-05, elementwise_affine=True)\n",
      "          (activation): GELUActivation()\n",
      "        )\n",
      "        (5-6): 2 x Wav2Vec2LayerNormConvLayer(\n",
      "          (conv): Conv1d(512, 512, kernel_size=(2,), stride=(2,))\n",
      "          (layer_norm): LayerNorm((512,), eps=1e-05, elementwise_affine=True)\n",
      "          (activation): GELUActivation()\n",
      "        )\n",
      "      )\n",
      "    )\n",
      "    (feature_projection): Wav2Vec2FeatureProjection(\n",
      "      (layer_norm): LayerNorm((512,), eps=1e-05, elementwise_affine=True)\n",
      "      (projection): Linear(in_features=512, out_features=1024, bias=True)\n",
      "      (dropout): Dropout(p=0.04, inplace=False)\n",
      "    )\n",
      "    (encoder): Wav2Vec2EncoderStableLayerNorm(\n",
      "      (pos_conv_embed): Wav2Vec2PositionalConvEmbedding(\n",
      "        (conv): ParametrizedConv1d(\n",
      "          1024, 1024, kernel_size=(128,), stride=(1,), padding=(64,), groups=16\n",
      "          (parametrizations): ModuleDict(\n",
      "            (weight): ParametrizationList(\n",
      "              (0): _WeightNorm()\n",
      "            )\n",
      "          )\n",
      "        )\n",
      "        (padding): Wav2Vec2SamePadLayer()\n",
      "        (activation): GELUActivation()\n",
      "      )\n",
      "      (layer_norm): LayerNorm((1024,), eps=1e-05, elementwise_affine=True)\n",
      "      (dropout): Dropout(p=0.047, inplace=False)\n",
      "      (layers): ModuleList(\n",
      "        (0-23): 24 x Wav2Vec2EncoderLayerStableLayerNorm(\n",
      "          (attention): Wav2Vec2SdpaAttention(\n",
      "            (k_proj): Linear(in_features=1024, out_features=1024, bias=True)\n",
      "            (v_proj): Linear(in_features=1024, out_features=1024, bias=True)\n",
      "            (q_proj): Linear(in_features=1024, out_features=1024, bias=True)\n",
      "            (out_proj): Linear(in_features=1024, out_features=1024, bias=True)\n",
      "          )\n",
      "          (dropout): Dropout(p=0.047, inplace=False)\n",
      "          (layer_norm): LayerNorm((1024,), eps=1e-05, elementwise_affine=True)\n",
      "          (feed_forward): Wav2Vec2FeedForward(\n",
      "            (intermediate_dropout): Dropout(p=0.055, inplace=False)\n",
      "            (intermediate_dense): Linear(in_features=1024, out_features=4096, bias=True)\n",
      "            (intermediate_act_fn): GELUActivation()\n",
      "            (output_dense): Linear(in_features=4096, out_features=1024, bias=True)\n",
      "            (output_dropout): Dropout(p=0.047, inplace=False)\n",
      "          )\n",
      "          (final_layer_norm): LayerNorm((1024,), eps=1e-05, elementwise_affine=True)\n",
      "        )\n",
      "      )\n",
      "    )\n",
      "  )\n",
      "  (dropout): Dropout(p=0.0, inplace=False)\n",
      "  (lm_head): Linear(in_features=1024, out_features=28, bias=True)\n",
      ")\n"
     ]
    }
   ],
   "source": [
    "print(base_model)"
   ]
  },
  {
   "cell_type": "code",
   "execution_count": 14,
   "metadata": {},
   "outputs": [
    {
     "name": "stdout",
     "output_type": "stream",
     "text": [
      "Linear(in_features=1024, out_features=28, bias=True)\n"
     ]
    }
   ],
   "source": [
    "print(base_model.lm_head)"
   ]
  }
 ],
 "metadata": {
  "kernelspec": {
   "display_name": "finetune-env",
   "language": "python",
   "name": "python3"
  },
  "language_info": {
   "codemirror_mode": {
    "name": "ipython",
    "version": 3
   },
   "file_extension": ".py",
   "mimetype": "text/x-python",
   "name": "python",
   "nbconvert_exporter": "python",
   "pygments_lexer": "ipython3",
   "version": "3.12.0"
  }
 },
 "nbformat": 4,
 "nbformat_minor": 2
}
