{
 "cells": [
  {
   "cell_type": "code",
   "execution_count": 1,
   "id": "6cbd3345",
   "metadata": {},
   "outputs": [],
   "source": [
    "import os\n",
    "import pandas as pd\n",
    "from langchain_community.llms import Ollama\n",
    "from langchain.prompts import PromptTemplate\n",
    "from langchain.chains import LLMChain"
   ]
  },
  {
   "cell_type": "code",
   "execution_count": 2,
   "id": "232053e1",
   "metadata": {},
   "outputs": [
    {
     "name": "stderr",
     "output_type": "stream",
     "text": [
      "C:\\Users\\dephm\\AppData\\Local\\Temp\\ipykernel_23020\\3039594451.py:2: LangChainDeprecationWarning: The class `Ollama` was deprecated in LangChain 0.3.1 and will be removed in 1.0.0. An updated version of the class exists in the :class:`~langchain-ollama package and should be used instead. To use it run `pip install -U :class:`~langchain-ollama` and import as `from :class:`~langchain_ollama import OllamaLLM``.\n",
      "  llm = Ollama(model=\"gemma2\")\n"
     ]
    }
   ],
   "source": [
    "# Load model\n",
    "llm = Ollama(model=\"gemma2\")"
   ]
  },
  {
   "cell_type": "code",
   "execution_count": 3,
   "id": "7d65919e",
   "metadata": {},
   "outputs": [],
   "source": [
    "# Template prompting\n",
    "prompt = PromptTemplate(\n",
    "    input_variables=[\"transcript\"],\n",
    "    template = \"\"\"\n",
    "        Berikan ringkasan dari transkrip percakapan berikut. Ringkasan harus mencakup informasi penting dan disusun dalam format sebagai berikut:\n",
    "\n",
    "        1. **Poin-Poin Penting:**\n",
    "        2. **Ringkasan Utama:**\n",
    "        3. **Entitas yang Disebutkan (Jika ada):**\n",
    "        4. **Langkah Berikutnya Berdasarkan Bahasan (Jika ada): **\n",
    "\n",
    "        Transkrip:\n",
    "        \\\"\\\"\\\"{transcript}\\\"\\\"\\\"\n",
    "\n",
    "        Gunakan bahasa Indonesia yang ringkas dan jelas.\n",
    "    \"\"\"\n",
    ")"
   ]
  },
  {
   "cell_type": "code",
   "execution_count": 4,
   "id": "7174b176",
   "metadata": {},
   "outputs": [
    {
     "name": "stderr",
     "output_type": "stream",
     "text": [
      "C:\\Users\\dephm\\AppData\\Local\\Temp\\ipykernel_23020\\2245203564.py:2: LangChainDeprecationWarning: The class `LLMChain` was deprecated in LangChain 0.1.17 and will be removed in 1.0. Use :meth:`~RunnableSequence, e.g., `prompt | llm`` instead.\n",
      "  chain = LLMChain(llm=llm, prompt=prompt)\n"
     ]
    }
   ],
   "source": [
    "# langchain\n",
    "chain = LLMChain(llm=llm, prompt=prompt)"
   ]
  },
  {
   "cell_type": "code",
   "execution_count": 5,
   "id": "62808903",
   "metadata": {},
   "outputs": [],
   "source": [
    "# Path file CSV n output folder\n",
    "input_csv = r\"experiment_results_with_confidence.csv\"\n",
    "output_folder = os.path.join(os.path.dirname(input_csv), \"Ringkasan\")\n",
    "os.makedirs(output_folder, exist_ok=True)\n"
   ]
  },
  {
   "cell_type": "code",
   "execution_count": 6,
   "id": "ef0af0bc",
   "metadata": {},
   "outputs": [],
   "source": [
    "df = pd.read_csv(input_csv)\n",
    "# Filter baris dengan Scenario == 'ideal'\n",
    "ideal_rows = df[df[\"SPL\"].str.strip().str.lower() == \"ideal\"]"
   ]
  },
  {
   "cell_type": "code",
   "execution_count": 7,
   "id": "18bdac23",
   "metadata": {},
   "outputs": [
    {
     "name": "stdout",
     "output_type": "stream",
     "text": [
      "\n",
      "📄 Memproses transkrip ground truth...\n"
     ]
    },
    {
     "name": "stderr",
     "output_type": "stream",
     "text": [
      "C:\\Users\\dephm\\AppData\\Local\\Temp\\ipykernel_23020\\3513338739.py:10: LangChainDeprecationWarning: The method `Chain.run` was deprecated in langchain 0.1.0 and will be removed in 1.0. Use :meth:`~invoke` instead.\n",
      "  ground_summary = chain.run(transcript=ground_truth_transcript)\n"
     ]
    },
    {
     "name": "stdout",
     "output_type": "stream",
     "text": [
      "Ringkasan ground truth disimpan: ringkasan_groundtruth.txt\n"
     ]
    }
   ],
   "source": [
    "# ==== Ringkasan untuk transkrip referensi ground truth ====\n",
    "groundtruth_path = os.path.join(\"Ref\", \"groundTruth.txt\")\n",
    "if os.path.exists(groundtruth_path):\n",
    "    with open(groundtruth_path, \"r\", encoding=\"utf-8\") as f:\n",
    "        ground_truth_transcript = f.read().strip()\n",
    "\n",
    "    if ground_truth_transcript:\n",
    "        print(\"\\n📄 Memproses transkrip ground truth...\")\n",
    "        try:\n",
    "            ground_summary = chain.run(transcript=ground_truth_transcript)\n",
    "            output_path = os.path.join(output_folder, \"ringkasan_groundtruth.txt\")\n",
    "\n",
    "            with open(output_path, \"w\", encoding=\"utf-8\") as f:\n",
    "                f.write(ground_summary)\n",
    "\n",
    "            print(\"Ringkasan ground truth disimpan: ringkasan_groundtruth.txt\")\n",
    "        except Exception as e:\n",
    "            print(f\"Gagal merangkum ground truth: {e}\")\n",
    "    else:\n",
    "        print(\"File ground truth kosong.\")\n",
    "else:\n",
    "    print(\"File groundTruth.txt tidak ditemukan.\")\n"
   ]
  },
  {
   "cell_type": "code",
   "execution_count": 8,
   "id": "66c811fb",
   "metadata": {},
   "outputs": [
    {
     "name": "stdout",
     "output_type": "stream",
     "text": [
      "\n",
      "📄 Memproses baris 0 - ideal.wav | SPL: ideal\n",
      "Ringkasan disimpan: ringkasan_ideal_0.txt\n",
      "\n",
      "📄 Memproses baris 1 - MaleVoice1_whisper_-55.0dBFS.wav | SPL: 30\n",
      "Ringkasan disimpan: ringkasan_MaleVoice1_whisper_-55.0dBFS_1.txt\n",
      "\n",
      "📄 Memproses baris 2 - MaleVoice1_whisper_-50.0dBFS.wav | SPL: 35\n",
      "Ringkasan disimpan: ringkasan_MaleVoice1_whisper_-50.0dBFS_2.txt\n",
      "\n",
      "📄 Memproses baris 3 - MaleVoice1_whisper_-45.0dBFS.wav | SPL: 40\n",
      "Ringkasan disimpan: ringkasan_MaleVoice1_whisper_-45.0dBFS_3.txt\n",
      "\n",
      "📄 Memproses baris 4 - MaleVoice1_whisper_-40.0dBFS.wav | SPL: 45\n",
      "Ringkasan disimpan: ringkasan_MaleVoice1_whisper_-40.0dBFS_4.txt\n",
      "\n",
      "📄 Memproses baris 5 - MaleVoice1_equal.wav | SPL: 45\n",
      "Ringkasan disimpan: ringkasan_MaleVoice1_equal_5.txt\n",
      "\n",
      "📄 Memproses baris 6 - MaleVoice1_overpower_-14dBFS.wav | SPL: 45\n",
      "Ringkasan disimpan: ringkasan_MaleVoice1_overpower_-14dBFS_6.txt\n",
      "\n",
      "📄 Memproses baris 7 - ideal.wav | SPL: ideal\n",
      "Ringkasan disimpan: ringkasan_ideal_7.txt\n",
      "\n",
      "📄 Memproses baris 8 - MaleVoice2_whisper_-55.0dBFS.wav | SPL: 30\n",
      "Ringkasan disimpan: ringkasan_MaleVoice2_whisper_-55.0dBFS_8.txt\n",
      "\n",
      "📄 Memproses baris 9 - MaleVoice2_whisper_-50.0dBFS.wav | SPL: 35\n",
      "Ringkasan disimpan: ringkasan_MaleVoice2_whisper_-50.0dBFS_9.txt\n",
      "\n",
      "📄 Memproses baris 10 - MaleVoice2_whisper_-45.0dBFS.wav | SPL: 40\n",
      "Ringkasan disimpan: ringkasan_MaleVoice2_whisper_-45.0dBFS_10.txt\n",
      "\n",
      "📄 Memproses baris 11 - MaleVoice2_whisper_-40.0dBFS.wav | SPL: 45\n",
      "Ringkasan disimpan: ringkasan_MaleVoice2_whisper_-40.0dBFS_11.txt\n",
      "\n",
      "📄 Memproses baris 12 - MaleVoice2_equal.wav | SPL: 45\n",
      "Ringkasan disimpan: ringkasan_MaleVoice2_equal_12.txt\n",
      "\n",
      "📄 Memproses baris 13 - MaleVoice2_overpower_-14dBFS.wav | SPL: 45\n",
      "Ringkasan disimpan: ringkasan_MaleVoice2_overpower_-14dBFS_13.txt\n"
     ]
    }
   ],
   "source": [
    "for idx, row in df.iterrows():\n",
    "    filename = str(row[\"Filename\"]).strip()\n",
    "    \n",
    "    # Untuk ideal.wav, ambil transkrip dari kolom 'Scenario'\n",
    "    if filename == \"ideal.wav\":\n",
    "        transcript = str(row[\"Scenario\"]).strip()\n",
    "        spl_value = \"ideal\"\n",
    "    else:\n",
    "        transcript = str(row[\"Transcription\"]).strip()\n",
    "        spl_value = str(row[\"SPL\"]).strip().lower()\n",
    "\n",
    "    # Proses hanya jika transkrip tidak kosong\n",
    "    if pd.notna(transcript) and transcript:\n",
    "        print(f\"\\n📄 Memproses baris {idx} - {filename} | SPL: {spl_value}\")\n",
    "        try:\n",
    "            # Jalankan chain (misalnya LangChain atau LLM lainnya)\n",
    "            summary = chain.run(transcript=transcript)\n",
    "\n",
    "            # Simpan hasil ringkasan\n",
    "            output_filename = f\"ringkasan_{filename.replace('.wav', '')}_{idx}.txt\"\n",
    "            output_path = os.path.join(output_folder, output_filename)\n",
    "\n",
    "            with open(output_path, \"w\", encoding=\"utf-8\") as f:\n",
    "                f.write(summary)\n",
    "\n",
    "            print(f\"Ringkasan disimpan: {output_filename}\")\n",
    "        except Exception as e:\n",
    "            print(f\"Gagal memproses baris ke-{idx}: {e}\")\n",
    "    else:\n",
    "        print(f\"Transkrip kosong pada baris {idx}, dilewati.\")"
   ]
  }
 ],
 "metadata": {
  "kernelspec": {
   "display_name": "summary_venv",
   "language": "python",
   "name": "python3"
  },
  "language_info": {
   "codemirror_mode": {
    "name": "ipython",
    "version": 3
   },
   "file_extension": ".py",
   "mimetype": "text/x-python",
   "name": "python",
   "nbconvert_exporter": "python",
   "pygments_lexer": "ipython3",
   "version": "3.12.0"
  }
 },
 "nbformat": 4,
 "nbformat_minor": 5
}
